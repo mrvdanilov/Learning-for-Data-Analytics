{
 "cells": [
  {
   "cell_type": "markdown",
   "id": "a86bf3db-fab8-4b27-b1c0-36b4db821480",
   "metadata": {
    "tags": []
   },
   "source": [
    "# Исследование объявлений о продаже квартир"
   ]
  },
  {
   "cell_type": "markdown",
   "id": "61559c64-d9ca-45f6-bb34-e1d6dceba629",
   "metadata": {},
   "source": [
    "## Описание задачи\n",
    "\n",
    "В вашем распоряжении данные сервиса Яндекс.Недвижимость — архив объявлений о продаже квартир в Санкт-Петербурге и Ленинградской области за несколько лет. \n",
    "\n",
    "Данные содержат различные параметры объявлений о продаже недвижимости: цена предложения, габариты квартиры/отдельных помещений, характеристики дома, этаж и этажность, расположение и расстояние до ключевых инфраструктурных объектов (крупного города, парка, магазина и т.д.)"
   ]
  },
  {
   "cell_type": "markdown",
   "id": "3383c595-c4c2-4146-b98c-d2978f8dde43",
   "metadata": {
    "tags": []
   },
   "source": [
    "## Детальное описание данных\n",
    "\n",
    "* airports_nearest — расстояние до ближайшего аэропорта в метрах (м)\n",
    "* balcony — число балконов\n",
    "* ceiling_height — высота потолков (м)\n",
    "* cityCenters_nearest — расстояние до центра города (м)\n",
    "* days_exposition — сколько дней было размещено объявление (от публикации до снятия)\n",
    "* first_day_exposition — дата публикации\n",
    "* floor — этаж\n",
    "* floors_total — всего этажей в доме\n",
    "* is_apartment — апартаменты (булев тип)\n",
    "* kitchen_area — площадь кухни в квадратных метрах (м²)\n",
    "* last_price — цена на момент снятия с публикации\n",
    "* living_area — жилая площадь в квадратных метрах (м²)\n",
    "* locality_name — название населённого пункта\n",
    "* open_plan — свободная планировка (булев тип)\n",
    "* parks_around3000 — число парков в радиусе 3 км\n",
    "* parks_nearest — расстояние до ближайшего парка (м)\n",
    "* ponds_around3000 — число водоёмов в радиусе 3 км\n",
    "* ponds_nearest — расстояние до ближайшего водоёма (м)\n",
    "* rooms — число комнат\n",
    "* studio — квартира-студия (булев тип)\n",
    "* total_area — общая площадь квартиры в квадратных метрах (м²)\n",
    "* total_images — число фотографий квартиры в объявлении"
   ]
  },
  {
   "cell_type": "markdown",
   "id": "0fea853e-9405-4063-b773-5676957853ed",
   "metadata": {
    "tags": []
   },
   "source": [
    "## Что мы можем сделать с этими данными и чем они полезны бизнесу?\n",
    "\n",
    "* Данные по объявлениям помогают нам принимать решения о покупке квартиры в различных целях: для проживания или инвестиции\n",
    "* Данные по объявлениям помогают бизнесу оценивать проекты в сфере недвижимости\n",
    "* Сервисам по объялениям данные помогают оценивать рыночное состояние рынка недвижимости и предотвращать мошенничество\n",
    "* Для дата-саентистов данные помогают строить передективные модели и понимать тенденции развития рынка"
   ]
  },
  {
   "cell_type": "markdown",
   "id": "63e89380-3054-48b9-bf12-eeb686866b0f",
   "metadata": {
    "tags": []
   },
   "source": [
    "## Постановка задачи\n",
    "\n",
    "* Провести обзор рынка недвижимости и первичную обработку данных\n",
    "* Найти среднюю стоиомость квадратного метра жилья (любой другой расчетный параметр)\n",
    "* Установить зависимость между ценой квадратного метра и расстоянием до центра (любые ваши параметры)\n",
    "* Построить графики, отражающие данные о рынке недвижимости (любые ваши идеи и предложения)\n",
    "* Принять решение: стоит ли приобретать/продавать объект недвижимости"
   ]
  },
  {
   "cell_type": "markdown",
   "id": "9115e0de-d94b-46d5-9824-40c04e7a8082",
   "metadata": {},
   "source": [
    "## Шаги по достижению цели\n",
    "\n",
    "* Откройте файл с данными и изучите общую информацию\n",
    "* Выполните предобработку данных\n",
    "* Проведите исследовательский анализ данных\n",
    "* Напишите общий вывод по исследованию"
   ]
  },
  {
   "cell_type": "markdown",
   "id": "2c6b4a30-07cc-458d-a089-7e7c815b59e6",
   "metadata": {
    "tags": []
   },
   "source": [
    "# Ход решения задачи"
   ]
  },
  {
   "cell_type": "markdown",
   "id": "5b7f48fd-4942-4e75-8743-e103a42c8c26",
   "metadata": {},
   "source": [
    "## Шаг 0. Подготовка к работе"
   ]
  },
  {
   "cell_type": "markdown",
   "id": "2ad948dd-8891-4eff-8078-e75ec5a747cc",
   "metadata": {},
   "source": [
    "Выгрузим библиотеки, которые нам понадобятся в работе"
   ]
  },
  {
   "cell_type": "code",
   "execution_count": null,
   "id": "e5a46da5-6fd8-45fc-8548-436b779fd237",
   "metadata": {
    "tags": []
   },
   "outputs": [],
   "source": [
    "import pandas as pd \n",
    "import matplotlib.pyplot as plt \n",
    "import seaborn as sns\n",
    "import numpy as np\n",
    "from pandasql import sqldf\n",
    "import math"
   ]
  },
  {
   "cell_type": "markdown",
   "id": "d1db70c0-e055-4d2f-af5f-0960dd69c1ed",
   "metadata": {
    "tags": []
   },
   "source": [
    "## Шаг 1. Получение данных из источника"
   ]
  },
  {
   "cell_type": "markdown",
   "id": "f8556cc6-b547-4145-bace-3f573050d304",
   "metadata": {},
   "source": [
    "Прочитаем файл:"
   ]
  },
  {
   "cell_type": "code",
   "execution_count": null,
   "id": "0231a532",
   "metadata": {
    "tags": []
   },
   "outputs": [],
   "source": [
    "df = pd.read_csv('real_estate_data.csv', sep='\\t')"
   ]
  },
  {
   "cell_type": "markdown",
   "id": "4578fde3-70cd-465c-90ea-29d985500372",
   "metadata": {},
   "source": [
    "Посмотрим, как у нас получилось загрузить данные:"
   ]
  },
  {
   "cell_type": "code",
   "execution_count": null,
   "id": "0604ee5b-c237-4ce1-b8aa-065d6ef860f4",
   "metadata": {
    "tags": []
   },
   "outputs": [],
   "source": [
    "df.head()"
   ]
  },
  {
   "cell_type": "markdown",
   "id": "06ea3702-e55c-45c6-8b56-8b984dcfd91d",
   "metadata": {},
   "source": [
    "Оставим только те признаки, которые хотим проанализировать:"
   ]
  },
  {
   "cell_type": "code",
   "execution_count": null,
   "id": "a18b1e0b-7d17-4f28-921e-68dc7cad4240",
   "metadata": {
    "tags": []
   },
   "outputs": [],
   "source": [
    "df = df[['last_price','total_area','first_day_exposition','rooms','ceiling_height','floors_total',\\\n",
    "          'floor','kitchen_area','balcony','locality_name','days_exposition','cityCenters_nearest']]\n",
    "df.head()"
   ]
  },
  {
   "cell_type": "markdown",
   "id": "fa6346e7-b87f-400d-9e29-b8dcbec4b33a",
   "metadata": {},
   "source": [
    "Выведем информацию о фрейме данных:"
   ]
  },
  {
   "cell_type": "code",
   "execution_count": null,
   "id": "1bfc77ba-1583-4aaf-a8a3-0706970aa071",
   "metadata": {
    "tags": []
   },
   "outputs": [],
   "source": [
    "df.info()"
   ]
  },
  {
   "cell_type": "markdown",
   "id": "c68e8735-0e12-40ae-bb3a-7a29610972c9",
   "metadata": {},
   "source": [
    "Посмотрим все колонки этой таблицы:"
   ]
  },
  {
   "cell_type": "code",
   "execution_count": null,
   "id": "2c6204d5",
   "metadata": {
    "tags": []
   },
   "outputs": [],
   "source": [
    "df.columns"
   ]
  },
  {
   "cell_type": "markdown",
   "id": "2a221a71-9fbe-4845-baf5-ad60482a4564",
   "metadata": {},
   "source": [
    "Проверим, сколько строк по каждой колонке заполнены пустыми значениями:"
   ]
  },
  {
   "cell_type": "code",
   "execution_count": null,
   "id": "b31ededb-3ace-4a1a-887f-d826da099d72",
   "metadata": {
    "tags": []
   },
   "outputs": [],
   "source": [
    "df.isna().sum()"
   ]
  },
  {
   "cell_type": "markdown",
   "id": "f7054ca4-7240-4550-af27-254bdcdace75",
   "metadata": {
    "tags": []
   },
   "source": [
    "### ВЫВОДЫ\n",
    "\n",
    "* В данных 23699 записи. \n",
    "* Для целого ряда столбцов, есть пропущенные значения и некорректный тип данных.\n",
    "* Данные признаны полными и достаточными для исследования."
   ]
  },
  {
   "cell_type": "markdown",
   "id": "62cc6463-5c7b-4d76-9abe-2bb6c4a47865",
   "metadata": {
    "tags": []
   },
   "source": [
    "## Шаг 2. Предобработка данных"
   ]
  },
  {
   "cell_type": "markdown",
   "id": "fca09c23-8791-4a01-8f68-bf47cc661bb9",
   "metadata": {},
   "source": [
    "#### Что мы можем сделать на этом этапе?\n",
    "\n",
    "* Проверить дублирующие значения\n",
    "* Повысить заполняемость признаков объектов недвижимости\n",
    "* Изменить типы данных на требуемые нам\n",
    "* Переименовать столбцы в удобные и короткие названия\n",
    "* Убрать \"битые\" данные\n",
    "\n",
    "Помните, что данные - это данность и мы их не можем \"выдумать\". Это критичное замечание влияет на все результаты исследований"
   ]
  },
  {
   "cell_type": "markdown",
   "id": "cb059296-59e6-4845-a802-94edbb87470d",
   "metadata": {},
   "source": [
    "Переименуем колонку ближайшего города:"
   ]
  },
  {
   "cell_type": "code",
   "execution_count": null,
   "id": "93d35930-112d-4984-9689-b2741fd20b35",
   "metadata": {
    "tags": []
   },
   "outputs": [],
   "source": [
    "df.rename(columns = {'cityCenters_nearest':'city_centers_nearest'}, inplace = True )\n",
    "df.head(5)"
   ]
  },
  {
   "cell_type": "markdown",
   "id": "83d63727-a044-4e76-8dea-01041943e4c3",
   "metadata": {},
   "source": [
    "Переведем тип данных по количеству картинок в объявлении к типу число:"
   ]
  },
  {
   "cell_type": "code",
   "execution_count": null,
   "id": "f0c15268-aedc-4ca9-8c67-92c157d3f44b",
   "metadata": {
    "tags": []
   },
   "outputs": [],
   "source": [
    "df['first_day_exposition'] = pd.to_datetime(df['first_day_exposition'], format='%Y-%m-%dT%H:%M:%S')\n",
    "df.head()"
   ]
  },
  {
   "cell_type": "markdown",
   "id": "b0824728-8f9c-4b42-b6ae-76cb664df6d7",
   "metadata": {},
   "source": [
    "Аналогично, тип данных у признака \"число этажаей в здании\" также должен быть целым числом, а не вещественным как это есть сейчас. Исправим эту неточность:"
   ]
  },
  {
   "cell_type": "code",
   "execution_count": null,
   "id": "5191fb23-384f-411b-87d3-cf5965ba4589",
   "metadata": {
    "tags": []
   },
   "outputs": [],
   "source": [
    "df['floors_total'] = df['floors_total'].fillna(df['floor']).astype(int)\n",
    "df.head()"
   ]
  },
  {
   "cell_type": "markdown",
   "id": "dca635b2-b87d-4154-a847-9b9e0962e5e8",
   "metadata": {},
   "source": [
    "Переведем расстояние до ближайшего города из метров в километры и сохраним в той же колонке:"
   ]
  },
  {
   "cell_type": "code",
   "execution_count": null,
   "id": "126c6faf-cadf-4541-b356-6ad64d3a2fb0",
   "metadata": {
    "tags": []
   },
   "outputs": [],
   "source": [
    "df['city_centers_nearest'] = df['city_centers_nearest']/1000\n",
    "df['city_centers_nearest'].round(2)\n",
    "df.head()"
   ]
  },
  {
   "cell_type": "markdown",
   "id": "5ec4c9e5-4078-4fed-b7f7-9632f23a500b",
   "metadata": {},
   "source": [
    "Округлим общую площадь объектов до 2 знаков после запятой:"
   ]
  },
  {
   "cell_type": "code",
   "execution_count": null,
   "id": "fe2dd9b8-9e31-4aa1-9d1f-6c2b01a56310",
   "metadata": {
    "tags": []
   },
   "outputs": [],
   "source": [
    "df['total_area'].round(2)\n",
    "df.head()"
   ]
  },
  {
   "cell_type": "markdown",
   "id": "4e945a2f-dd66-41e1-9e03-8671df5ee281",
   "metadata": {},
   "source": [
    "Заменим пустые значения высоты потолоков усредненным значением по всем объектам:"
   ]
  },
  {
   "cell_type": "code",
   "execution_count": null,
   "id": "e23de4d0-aa80-4487-9d32-930668bc4191",
   "metadata": {
    "tags": []
   },
   "outputs": [],
   "source": [
    "df['ceiling_height'] = df['ceiling_height'].fillna(df['ceiling_height'].median())\n",
    "df.head()"
   ]
  },
  {
   "cell_type": "markdown",
   "id": "dd71911b-bfdc-4a3d-af7f-887fe25ecefb",
   "metadata": {},
   "source": [
    "Заменим этажность домов усредненным значением по всем объектам:"
   ]
  },
  {
   "cell_type": "code",
   "execution_count": null,
   "id": "b4877380-e40f-44d0-8da3-307ba8445695",
   "metadata": {
    "tags": []
   },
   "outputs": [],
   "source": [
    "def floors_total(row):\n",
    "    if row['floors_total'] >= 0:\n",
    "        return 0\n",
    "    else:\n",
    "        return df[df['floor'] == row['floor']]['floors_total'].median()\n",
    "        \n",
    "df['f'] = df.apply(floors_total, axis=1) \n",
    "df['floors_total'] = df['floors_total'].fillna(0)\n",
    "df['floors_total'] = (df['f'] + df['floors_total']).astype('int')\n",
    "df.drop('f', axis= 1 , inplace= True )\n",
    "df['floors_total'].unique()"
   ]
  },
  {
   "cell_type": "markdown",
   "id": "eb0f8292-b34b-43ea-a470-13fe1f10a427",
   "metadata": {},
   "source": [
    "Посчитаем дубли в датасете:"
   ]
  },
  {
   "cell_type": "code",
   "execution_count": null,
   "id": "99303076-5e89-49a1-8714-daccb9248c59",
   "metadata": {
    "tags": []
   },
   "outputs": [],
   "source": [
    "df.duplicated().sum()"
   ]
  },
  {
   "cell_type": "markdown",
   "id": "8afd3f9b-b1a5-4e7f-be8e-195edabd88eb",
   "metadata": {},
   "source": [
    "Если бы в датасете были дубли, мы бы их могли убрать простой командой:"
   ]
  },
  {
   "cell_type": "code",
   "execution_count": null,
   "id": "6796545c-2f9a-458e-8457-f04dd09dddf1",
   "metadata": {
    "tags": []
   },
   "outputs": [],
   "source": [
    "df.drop_duplicates()\n",
    "df.head()"
   ]
  },
  {
   "cell_type": "markdown",
   "id": "74f3fe58-f1e1-48d0-883e-048880652e33",
   "metadata": {},
   "source": [
    "Заполним пустоты в данных о наличии балконов нулевыми значениями:"
   ]
  },
  {
   "cell_type": "code",
   "execution_count": null,
   "id": "7704f4f9",
   "metadata": {
    "tags": []
   },
   "outputs": [],
   "source": [
    "df['balcony'] = df['balcony'].fillna(0)"
   ]
  },
  {
   "cell_type": "markdown",
   "id": "8623e566-bfa4-480b-bf23-126fc646b045",
   "metadata": {},
   "source": [
    "Посчитаем, какая доля объявлений имеет незаполненную локацию. Доля таких строчек стала нулевой."
   ]
  },
  {
   "cell_type": "code",
   "execution_count": null,
   "id": "02ec8cea-8061-4f90-86da-d30e9e311c86",
   "metadata": {
    "tags": []
   },
   "outputs": [],
   "source": [
    "(df['locality_name'].isna().sum() / df.shape[0]).round(4)"
   ]
  },
  {
   "cell_type": "markdown",
   "id": "5039691e-e2a4-4486-b27a-ac15f3408cfb",
   "metadata": {},
   "source": [
    "Заполним пропущенные названия населенных пунктов:"
   ]
  },
  {
   "cell_type": "code",
   "execution_count": null,
   "id": "660be14e-23f8-4ae2-b2c1-41123eff8b89",
   "metadata": {
    "tags": []
   },
   "outputs": [],
   "source": [
    "df['locality_name'] = df['locality_name'].fillna('unknown')"
   ]
  },
  {
   "cell_type": "markdown",
   "id": "58828fcb-ca66-470f-8aff-3edb3f12b154",
   "metadata": {},
   "source": [
    "Мы могли бы также удалить объявления с пустыми локациями объектов:"
   ]
  },
  {
   "cell_type": "code",
   "execution_count": null,
   "id": "9e630589-b11c-43fd-b3b7-a039000dacc3",
   "metadata": {
    "tags": []
   },
   "outputs": [],
   "source": [
    "df = df.dropna(subset=['locality_name'])\n",
    "df.head()"
   ]
  },
  {
   "cell_type": "markdown",
   "id": "48dc57f7-b7ad-40f9-8696-040571cb9d01",
   "metadata": {},
   "source": [
    "В качестве эксперимента мы можем придумать и более сложную логику для доопределения недостающих данных. Например, посчитать среднюю высоту объектов в домах различной высотности и заполнить пустые параметры высоты потолков:"
   ]
  },
  {
   "cell_type": "code",
   "execution_count": null,
   "id": "3d64429b-7265-48b9-bc88-49f7cc09e15b",
   "metadata": {
    "tags": []
   },
   "outputs": [],
   "source": [
    "ceiling_height_median = df.groupby('floor')['ceiling_height'].transform('median')\n",
    "df['ceiling_height'] = df['ceiling_height'].fillna(ceiling_height_median)\n",
    "df['ceiling_height'] = df['ceiling_height'].fillna(df['ceiling_height'].mode())\n",
    "\n",
    "df.head()"
   ]
  },
  {
   "cell_type": "markdown",
   "id": "b3b6cd43-9bd0-45b8-a127-6dc3b87d6d24",
   "metadata": {},
   "source": [
    "Или вот еще вариант. Можем рассчитать недостающий данные по площади кухонь,у среднив значения по аналогам в разрезе общей площади и количества комнат:"
   ]
  },
  {
   "cell_type": "code",
   "execution_count": null,
   "id": "a6a5a6d6-010e-424a-bcbb-74c4d2b03022",
   "metadata": {
    "tags": []
   },
   "outputs": [],
   "source": [
    "kitchen_height_median = df.groupby(['total_area','rooms'])['kitchen_area'].transform('median')\n",
    "df['kitchen_area'] = df['kitchen_area'].fillna(kitchen_height_median)\n",
    "df['kitchen_area'] = df['kitchen_area'].fillna(df['kitchen_area'].mode())\n",
    "\n",
    "df.head()"
   ]
  },
  {
   "cell_type": "markdown",
   "id": "d966a382-3180-4cf6-b7d2-fe9a640cb58c",
   "metadata": {},
   "source": [
    "## ВЫВОД:\n",
    "* Убрали дупликаты из таблицы (сначала проверили, что их нет, и на всякий случай удалили)\n",
    "* Сделали преобразования типов данных (перевели метры в километры, превратили вещественные числа в целые)\n",
    "* Улучшили заполнение некоторых признаков (заполнили пустоты по числу балконов, усреднили площади кухонь и высотности квартир)\n",
    "* Убрали битые данные (строки, где не была заполнена локация)"
   ]
  },
  {
   "cell_type": "markdown",
   "id": "12e172ce-1cc0-4033-8326-4cc84b591418",
   "metadata": {},
   "source": [
    "## Шаг 3. Начнем анализировать данные по недвижимости"
   ]
  },
  {
   "cell_type": "markdown",
   "id": "c0e51dd3-5aab-4c48-b690-9912a562c845",
   "metadata": {},
   "source": [
    "### Что происхдит на этом этапе?\n",
    "\n",
    "* Вычисляем необходимые параметры\n",
    "* Строим репрезентативные графики\n",
    "* Выявляем тендеции и закономерности\n",
    "* Проводим анализ зависимости параметров друг от друга \n",
    "\n",
    "Опционально:\n",
    "* Смторим на данные с различных разрезах\n",
    "* Ставим эксперименты и выдивигаем гипотезы"
   ]
  },
  {
   "cell_type": "markdown",
   "id": "0f546ab9-a61d-4be3-accb-1bad37d3edd1",
   "metadata": {},
   "source": [
    "Добавим новые вспомогательные полонки в датасет, отражающие год, месяц и неделю, основываясь на дате размещения объявления:"
   ]
  },
  {
   "cell_type": "code",
   "execution_count": null,
   "id": "954edf19-7419-4450-9875-96f5db923d7b",
   "metadata": {
    "tags": []
   },
   "outputs": [],
   "source": [
    "df['week_day'] = pd.DatetimeIndex(df['first_day_exposition']).weekday\n",
    "df['year'] = pd.DatetimeIndex(df['first_day_exposition']).year\n",
    "df['month'] = pd.DatetimeIndex(df['first_day_exposition']).month\n",
    "\n",
    "df.info()"
   ]
  },
  {
   "cell_type": "markdown",
   "id": "1a1998dc-02f2-46da-b9fa-256fce8901c1",
   "metadata": {
    "tags": []
   },
   "source": [
    "Посмотрим уникальные даты размещения объявлений:"
   ]
  },
  {
   "cell_type": "code",
   "execution_count": null,
   "id": "e4df1fce-d3b4-4a66-b955-9ce14fdd392f",
   "metadata": {
    "tags": []
   },
   "outputs": [],
   "source": [
    "df['first_day_exposition'] = pd.to_datetime(df['first_day_exposition'], format='%Y-%m-%dT%H:%M:%S')\n",
    "df['first_day_exposition'].unique()"
   ]
  },
  {
   "cell_type": "markdown",
   "id": "f42846a3-749f-40a0-bea5-fdc5ee7443d9",
   "metadata": {
    "tags": []
   },
   "source": [
    "### Анализ цены за квадратный метр жилья"
   ]
  },
  {
   "cell_type": "markdown",
   "id": "14af32b2-b8e2-4615-8c90-27c5f7de10d0",
   "metadata": {},
   "source": [
    "Добавим столбец price_square_meter с ценой одного квадратного метра объекта с точностью до двух знаков после запятой:"
   ]
  },
  {
   "cell_type": "code",
   "execution_count": null,
   "id": "ee40f475-67ba-453a-9f23-f98db53bb5c0",
   "metadata": {
    "tags": []
   },
   "outputs": [],
   "source": [
    "df['price_on_metr'] = (df['last_price'] / df['total_area']).round(2).astype(int)\n",
    "df.head()"
   ]
  },
  {
   "cell_type": "markdown",
   "id": "5a8c417a-1ec1-4c62-91e1-f686f16ea29d",
   "metadata": {},
   "source": [
    "Также можем посмотреть цены на квадратный метр отдельно по Санкт-Петербургу и Ленинградской области:"
   ]
  },
  {
   "cell_type": "code",
   "execution_count": null,
   "id": "17c119b8-1bd9-4d11-8f41-c0353b925d9f",
   "metadata": {
    "tags": []
   },
   "outputs": [],
   "source": [
    "df_piter = df.query('locality_name == \"Санкт-Петербург\"')\n",
    "df_len_obl = df.query('locality_name != \"Санкт-Петербург\"')"
   ]
  },
  {
   "cell_type": "code",
   "execution_count": null,
   "id": "c0aa6462-7c34-4c8f-9c53-86dafb95b7ef",
   "metadata": {
    "tags": []
   },
   "outputs": [],
   "source": [
    "df_piter['price_on_metr'].hist(figsize=(10,4), bins=40, alpha=0.5)\n",
    "df_len_obl['price_on_metr'].hist(figsize=(10,4), bins=40, alpha=0.5)\n",
    "plt.legend(['Питер', 'Лен область'])\n",
    "plt.title('Гистограммы Питер и область цена за 1 кв.м.')\n",
    "plt.show()"
   ]
  },
  {
   "cell_type": "code",
   "execution_count": null,
   "id": "b0638d44-fd64-4596-8d7c-04c4262ab8b2",
   "metadata": {
    "tags": []
   },
   "outputs": [],
   "source": [
    "df_piter['price_on_metr'].mean()"
   ]
  },
  {
   "cell_type": "code",
   "execution_count": null,
   "id": "9f37df47-7242-40f3-8805-8d90d4e40481",
   "metadata": {
    "tags": []
   },
   "outputs": [],
   "source": [
    "df_len_obl['price_on_metr'].mean()"
   ]
  },
  {
   "cell_type": "markdown",
   "id": "d97ae715-0d0f-4a2e-b8f6-1502f8898f0e",
   "metadata": {
    "tags": []
   },
   "source": [
    "#### Вывод:\n",
    "Цены в Санкт-Петербурге ожидаемо выше, чем в Ленинградской области"
   ]
  },
  {
   "cell_type": "markdown",
   "id": "743195ef-70de-4915-85c9-abb8ca4c01b9",
   "metadata": {},
   "source": [
    "### Анализ общей площади объектов"
   ]
  },
  {
   "cell_type": "code",
   "execution_count": null,
   "id": "6dc35b33-d040-4597-a688-ce4fcbfb4622",
   "metadata": {
    "tags": []
   },
   "outputs": [],
   "source": [
    "df['total_area'].describe()"
   ]
  },
  {
   "cell_type": "markdown",
   "id": "b511eabd-3821-4dbb-bf5e-e1d8a9c2b465",
   "metadata": {},
   "source": [
    "Оставим значения от минимального 12 до 100 кв. метров построим гистограмму"
   ]
  },
  {
   "cell_type": "code",
   "execution_count": null,
   "id": "9a88a087-1202-42fa-806b-cfb730bcb75f",
   "metadata": {
    "tags": []
   },
   "outputs": [],
   "source": [
    "plt.hist(df['total_area'], bins=100, range=(12,100))\n",
    "plt.title('Зависимость квартир в продаже от площади квартир')\n",
    "plt.xlabel('Квадратные метры')\n",
    "plt.ylabel('Количество квартир')\n",
    "plt.show()"
   ]
  },
  {
   "cell_type": "markdown",
   "id": "e20964d8-8632-4db4-98e6-b094b28b9b87",
   "metadata": {},
   "source": [
    "#### ВЫВОД: \n",
    "На рынке самое большое предложение квартир с общей площадью от 40 до 69 кв. метров с максимумом около 52 кв. метров."
   ]
  },
  {
   "cell_type": "markdown",
   "id": "8af4bc38-8bde-4ab5-a47d-44a3f87d43f5",
   "metadata": {},
   "source": [
    "### Анализ локаций"
   ]
  },
  {
   "cell_type": "code",
   "execution_count": null,
   "id": "0aa94091",
   "metadata": {
    "tags": []
   },
   "outputs": [],
   "source": [
    "df['locality_name'].value_counts().head(5).plot(kind = 'barh',figsize=(8,4))\n",
    "plt.title('Распределение по городам ТОП 5')\n",
    "plt.show()"
   ]
  },
  {
   "cell_type": "markdown",
   "id": "6fc6cec0-b899-49fd-91d3-aa2ea4163f0f",
   "metadata": {
    "tags": []
   },
   "source": [
    "#### Вывод:\n",
    "Больше всего объектов размещено ожидаемо в Санкт-Петербурге"
   ]
  },
  {
   "cell_type": "markdown",
   "id": "46a45921-2a79-42c7-88c4-c5fb88054739",
   "metadata": {
    "tags": []
   },
   "source": [
    "### Анализ площади кухни"
   ]
  },
  {
   "cell_type": "code",
   "execution_count": null,
   "id": "ee30e296-7d48-41ec-bf98-74876395aca8",
   "metadata": {
    "tags": []
   },
   "outputs": [],
   "source": [
    "df['kitchen_area'].describe()"
   ]
  },
  {
   "cell_type": "code",
   "execution_count": null,
   "id": "c0a22563-c5be-4ba7-b139-9175274e2e3e",
   "metadata": {
    "tags": []
   },
   "outputs": [],
   "source": [
    "plt.hist(df['kitchen_area'], bins=100, range=(6,12))\n",
    "plt.title('Зависимость квартир в продаже от площади кухни')\n",
    "plt.xlabel('Квадратные метры')\n",
    "plt.ylabel('Количество квартир')\n",
    "plt.show()"
   ]
  },
  {
   "cell_type": "markdown",
   "id": "61cd7219-202e-407f-aa27-a8c04705a94e",
   "metadata": {},
   "source": [
    "#### Вывод\n",
    "\n",
    "Прослеживается тенденция что больше всего предложений с площадью кухни в 6 метров затем 10 и чередом 7,8,9 кв. метров, при этом в анкетах заметны явные всплески на целых числах."
   ]
  },
  {
   "cell_type": "markdown",
   "id": "05a70a4b-7120-4d92-bc8c-74e350d38f47",
   "metadata": {
    "tags": []
   },
   "source": [
    "### Анализ этажности\n",
    "\n",
    "Ни для кого не секрет, что объекты часто рассматриваются по 3 категориям в засимости от этажа: первый, последний, все остальные.\n",
    "Давайте так же классифицируем наши объекты"
   ]
  },
  {
   "cell_type": "code",
   "execution_count": null,
   "id": "1e71f4bc-50d1-44e3-af5c-669b57425676",
   "metadata": {
    "tags": []
   },
   "outputs": [],
   "source": [
    "df['floor_category'] = np.where(df['floor'] == 1, 'Первый',\n",
    "                       np.where(df['floor'] == df['floors_total'],'Посдедний','Другой'))\n",
    "df.groupby('floor_category').size().plot(kind = 'pie', autopct='%1.0f%%')\n",
    "plt.title('Круговая диаграмма категории этажа')\n",
    "plt.show()"
   ]
  },
  {
   "cell_type": "markdown",
   "id": "f97e3d0c-5b06-403c-a737-022273c95869",
   "metadata": {},
   "source": [
    "#### Вывод\n",
    "Менее ценными считаются квартиры на \"Первом\" и \"Последнем\" этаже. На круговой диаграмме заметно, что общее количество предложений \"Первого\" и \"Последнего\" этажа составляет чуть больше 25% от общего количества предложений, значит люди хотят сьехать с этих этажей."
   ]
  },
  {
   "cell_type": "markdown",
   "id": "47b05478-a549-436b-84bc-24e46796c57c",
   "metadata": {},
   "source": [
    "### Анализ цены"
   ]
  },
  {
   "cell_type": "code",
   "execution_count": null,
   "id": "00cce626",
   "metadata": {
    "tags": []
   },
   "outputs": [],
   "source": [
    "df['last_price'].describe()"
   ]
  },
  {
   "cell_type": "code",
   "execution_count": null,
   "id": "b2d4aac8-6ce3-494b-a2a2-8a30c4b8e40a",
   "metadata": {
    "tags": []
   },
   "outputs": [],
   "source": [
    "plt.hist(df['last_price'], bins=100, range=(1.219000e+04,9.00000e+06))\n",
    "plt.title('Зависимость квартир в продаже от цены на момент снятия с публикации')\n",
    "plt.xlabel('Цена в млн. руб.')\n",
    "plt.ylabel('Количество квартир')\n",
    "plt.show()"
   ]
  },
  {
   "cell_type": "markdown",
   "id": "b5ef51a2-9a3d-4f2d-9d58-ba21d3be70ed",
   "metadata": {},
   "source": [
    "#### Вывод:\n",
    "Из гисторгаммы следует, что наиболее часто цена объекта составляет 3,8 - 4,2 миллниона."
   ]
  },
  {
   "cell_type": "markdown",
   "id": "0a36fed0-5f6e-41d8-bfdd-e574ad0cc15e",
   "metadata": {},
   "source": [
    "### Анализ комнатности"
   ]
  },
  {
   "cell_type": "code",
   "execution_count": null,
   "id": "92015866-3add-4424-b637-488a4f6223a1",
   "metadata": {
    "tags": []
   },
   "outputs": [],
   "source": [
    "plt.hist(df['rooms'], bins=7, range=(0,7))\n",
    "plt.title('Зависимость квартир в продаже от комнат')\n",
    "plt.xlabel('Количество комнат')\n",
    "plt.ylabel('Количество квартир')\n",
    "plt.show()"
   ]
  },
  {
   "cell_type": "markdown",
   "id": "dd3ff1d4-49cd-48fc-96fe-bbc0cb9541de",
   "metadata": {},
   "source": [
    "#### Вывод:\n",
    "Среди предложений больше всего однокомнатных квартир. С увеличением комнат количество предложений снижается почти линейно."
   ]
  },
  {
   "cell_type": "markdown",
   "id": "7fbfcb33-e3ed-4da8-bbc7-0b4f13721201",
   "metadata": {},
   "source": [
    "### Анализ высоты потолков"
   ]
  },
  {
   "cell_type": "code",
   "execution_count": null,
   "id": "8773817c-9a93-45de-8d88-238319fb7942",
   "metadata": {
    "tags": []
   },
   "outputs": [],
   "source": [
    "df['ceiling_height'].describe()"
   ]
  },
  {
   "cell_type": "code",
   "execution_count": null,
   "id": "62f064b2-699b-40cf-9fc0-30a0853e4a87",
   "metadata": {
    "tags": []
   },
   "outputs": [],
   "source": [
    "plt.hist(df.query('(ceiling_height > 2) & (ceiling_height < 4)')['ceiling_height'], bins=50, range=(2.4,3))\n",
    "plt.title('Зависимость квартир в продаже от высоты потолков')\n",
    "plt.xlabel('Метры')\n",
    "plt.ylabel('Количество квартир')\n",
    "plt.show()"
   ]
  },
  {
   "cell_type": "markdown",
   "id": "237352ac-9301-437e-ae5f-e17fc7595480",
   "metadata": {
    "tags": []
   },
   "source": [
    "#### Вывод\n",
    "Среди большинства предложений высота составляет 2.65 метров, далее 2.5, 2.6, 2.7, 2.55 метров."
   ]
  },
  {
   "cell_type": "markdown",
   "id": "82d7518d-35bd-4884-ab05-56d8409cf7e3",
   "metadata": {
    "tags": []
   },
   "source": [
    "### Анализ размещений объявлений"
   ]
  },
  {
   "cell_type": "markdown",
   "id": "d9cb3280-7bb8-40d9-aaab-565e6567f57a",
   "metadata": {},
   "source": [
    "Построим график распределения частоты объявлений по годам, месяцам и нееделям"
   ]
  },
  {
   "cell_type": "code",
   "execution_count": null,
   "id": "1453574b",
   "metadata": {
    "tags": []
   },
   "outputs": [],
   "source": [
    "def hist_df(data):\n",
    "    for column,name in zip(['year','week_day','month'],['Годы','День недели','Месяц']):\n",
    "        data.plot(y = column, kind = 'hist', bins = 40, figsize = (8,4))\n",
    "        plt.title(name)\n",
    "    return plt.show()"
   ]
  },
  {
   "cell_type": "code",
   "execution_count": null,
   "id": "4ea04a29",
   "metadata": {
    "tags": []
   },
   "outputs": [],
   "source": [
    "for column,name in zip(['year','week_day','month'],['Годы','День недели','Месяц']):\n",
    "    df.plot(y = column, kind = 'hist', bins = 40, figsize = (8,4))\n",
    "    plt.title(name)\n",
    "    plt.show()"
   ]
  },
  {
   "cell_type": "markdown",
   "id": "8ddfb6d0-0d4a-4926-984d-e6873aa4889b",
   "metadata": {},
   "source": [
    "### Вывод\n",
    "\n",
    "* Годы отличаются явно сезонностью в 2017 и 2018 гг. Возможно, что данные за 2019 год неполный, а ранее сервис Я.Недвижимость еще не существовал\n",
    "* В днях недели также выявлена явная сезонность: в выходные дни реже происходят размещения и продажи недвижимости\n",
    "* В месяцах также заметна сезонность: в январе и мае (традиционно праздничные месяцы в России) сделок и объявлений меньше, чем в другие сезоны. Пик сделок приходится на конец зимы - начало весны и осень. Лето также традиционно \"не сезон\" на рынке недвижимости."
   ]
  },
  {
   "cell_type": "markdown",
   "id": "dafdab44-2d92-4680-afed-7529260012a8",
   "metadata": {},
   "source": [
    "### Корреляционный анализ"
   ]
  },
  {
   "cell_type": "markdown",
   "id": "44dc7d6e-bb23-4f72-95d2-12a48c8719d8",
   "metadata": {},
   "source": [
    "Давайте посмотрим на то, как связаны между собой различные ключевые показатели квартир"
   ]
  },
  {
   "cell_type": "code",
   "execution_count": null,
   "id": "a6bde6a2-0f2d-48a3-bca0-ba87e848de2c",
   "metadata": {
    "tags": []
   },
   "outputs": [],
   "source": [
    "df_piter['city_centers_nearest'].corr(df_piter['price_on_metr'])"
   ]
  },
  {
   "cell_type": "code",
   "execution_count": null,
   "id": "e1cfd4d8",
   "metadata": {
    "tags": []
   },
   "outputs": [],
   "source": [
    "plt.figure(figsize=(5,5))\n",
    "sns.heatmap(df_piter[['price_on_metr','total_area','rooms','ceiling_height', 'city_centers_nearest']]\\\n",
    "               .corr(), vmin=-1, vmax=1, center= 0, cmap= 'coolwarm', linewidths=3, linecolor='black')\n",
    "plt.show()"
   ]
  },
  {
   "cell_type": "markdown",
   "id": "f69d4040-5c62-4057-9eb1-2dcf0bfbb55c",
   "metadata": {},
   "source": [
    "#### Вывод\n",
    "Существует сильная прямая связь между числом комнат и общей площадью квартир\n",
    "Существует сильная обратная связь между ценой за квадратный метр и удаленностью от центра города"
   ]
  },
  {
   "cell_type": "markdown",
   "id": "b8717cd1-94c6-405d-9f3e-425019cd58ff",
   "metadata": {
    "tags": []
   },
   "source": [
    "### Анализ зависимости цены квадратного метра от удаленности от города"
   ]
  },
  {
   "cell_type": "code",
   "execution_count": null,
   "id": "7382b412-7930-478d-897c-7ac133015900",
   "metadata": {
    "tags": []
   },
   "outputs": [],
   "source": [
    "df_piter['km_center'] = (df_piter['city_centers_nearest']).round()\n",
    "df_piter['km_center'].hist(bins = 25)"
   ]
  },
  {
   "cell_type": "code",
   "execution_count": null,
   "id": "4ff4b071",
   "metadata": {
    "tags": []
   },
   "outputs": [],
   "source": [
    "df_piter.groupby('km_center')['price_on_metr'].mean().plot(figsize=(10,4), style='o-', grid = True)\n",
    "plt.title('Зависимость цены от удаленности от центра')\n",
    "plt.show()"
   ]
  },
  {
   "cell_type": "markdown",
   "id": "b64244ab-979e-4d48-b3a5-db8ede5bd073",
   "metadata": {
    "tags": []
   },
   "source": [
    "#### Вывод:\n",
    "Для поиска оптимального соотношения \"цена-расстояние\" следует обратить внимание на объекты в пределах 2-4 или 7-10 км от центра города"
   ]
  },
  {
   "cell_type": "markdown",
   "id": "2f860fff-858d-4e5c-9b1b-32c5ee012c87",
   "metadata": {
    "tags": []
   },
   "source": [
    "### Выводы по всему разделу:\n",
    "* На рынке самое большое предложение квартир с общей площадью от 40 до 69 кв. метров с максимумом около 52 кв. метров.\n",
    "* Больше всего продают квартир с жилой площадью около 18 кв. м и 30 кв. метров при этом прослеживается спад предложений в средней зоне 23 кв. метра.\n",
    "* Прослеживается тенденция что больше всего предложений с площадью кухни в 6 метров затем 10 и чередом 7,8,9 кв. метров, при этом в анкетах заметны явные всплески на целых числах.\n",
    "* Из гисторгаммы следует, что наиболее часто цена объекта составляет 3,8 - 4,2 миллниона.\n",
    "* Среди предложений больше всего однокомнатных квартир. С увеличением комнат количество предложений снижается почти линейно.\n",
    "* Среди большинства предложений высота составляет 2.65 метров, далее 2.5, 2.6, 2.7, 2.55 метров.\n",
    "* Менее ценными считаются квартиры на \"первом\" этаже. На круговой диаграмме заметно, что общее количество предложений \"первого\" и \"последнего\" этажа составляет почти 25% от общего количества, значит люди хотят сьехать с этих этажей.\n",
    "* Больше всего предложений о продаже квартир в пятиэтажных домах, а потом в девятиэтажках.\n",
    "* Больше всего предложений о продаже в спальных районах на окраинах города (на расстоянии 12000 -15000 метров), и значительным всплеском на расстоянии в 5000 метров от центра города."
   ]
  },
  {
   "cell_type": "markdown",
   "id": "dcc8a96e-46a1-4f9f-9bd8-0caacd1426d0",
   "metadata": {},
   "source": [
    "### Опциональные возможности"
   ]
  },
  {
   "cell_type": "code",
   "execution_count": null,
   "id": "6b2f782d",
   "metadata": {
    "tags": []
   },
   "outputs": [],
   "source": [
    "q = \"\"\" select * from df_piter \"\"\"\n",
    "sqldf(q)"
   ]
  }
 ],
 "metadata": {
  "kernelspec": {
   "display_name": "Python 3 (ipykernel)",
   "language": "python",
   "name": "python3"
  },
  "language_info": {
   "codemirror_mode": {
    "name": "ipython",
    "version": 3
   },
   "file_extension": ".py",
   "mimetype": "text/x-python",
   "name": "python",
   "nbconvert_exporter": "python",
   "pygments_lexer": "ipython3",
   "version": "3.11.5"
  }
 },
 "nbformat": 4,
 "nbformat_minor": 5
}
