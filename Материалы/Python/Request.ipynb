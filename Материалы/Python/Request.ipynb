{
 "cells": [
  {
   "cell_type": "markdown",
   "id": "86784aa9-c989-4e31-a6b1-d67e9e41229d",
   "metadata": {},
   "source": [
    "## Обучающий курс по библиотеке Requests в Python"
   ]
  },
  {
   "cell_type": "markdown",
   "id": "f038b858-a851-4046-96cb-7bd417f31488",
   "metadata": {},
   "source": [
    "### Введение\n",
    "Библиотека requests - это одна из самых популярных и удобных библиотек Python для работы с HTTP-запросами. Она предоставляет простой и элегантный способ взаимодействия с веб-сервисами."
   ]
  },
  {
   "cell_type": "code",
   "execution_count": 1,
   "id": "9fe3b4af-33db-4979-9a10-1f7f6b41acdc",
   "metadata": {
    "tags": []
   },
   "outputs": [],
   "source": [
    "import requests\n",
    "import json\n",
    "from requests.exceptions import RequestException\n",
    "from concurrent.futures import ThreadPoolExecutor\n",
    "import time\n",
    "import os"
   ]
  },
  {
   "cell_type": "markdown",
   "id": "7fe47600-9f70-4981-bf36-0bc23218beb4",
   "metadata": {},
   "source": [
    "### Модуль 1: Основы работы с Requests"
   ]
  },
  {
   "cell_type": "code",
   "execution_count": null,
   "id": "daee4941-1551-422c-9454-4f3ef35faf51",
   "metadata": {
    "tags": []
   },
   "outputs": [],
   "source": [
    "# Простой GET-запрос\n",
    "response = requests.get('https://api.github.com')\n",
    "\n",
    "# Проверка статуса ответа\n",
    "print(f\"Status Code: {response.status_code}\")  # 200 - успешно\n",
    "\n",
    "# Получение содержимого ответа\n",
    "print(f\"Content: {response.text}\")  # Первые 100 символов\n",
    "\n",
    "# Получение ответа в формате JSON (если ответ JSON)\n",
    "if response.headers.get('Content-Type') == 'application/json':\n",
    "    data = response.json()\n",
    "    print(f\"JSON Data: {data}\")"
   ]
  },
  {
   "cell_type": "code",
   "execution_count": null,
   "id": "45104441-76dd-4707-a098-19802438cf42",
   "metadata": {
    "tags": []
   },
   "outputs": [],
   "source": [
    "# Параметры запроса\n",
    "params = {\n",
    "    'tab': 'projects'\n",
    "}\n",
    "\n",
    "response = requests.get('https://github.com/mrvdanilov/', params=params)\n",
    "print(f\"URL: {response.url}\")  # Показывает итоговый URL с параметрами"
   ]
  },
  {
   "cell_type": "markdown",
   "id": "3c693b89-4eaf-4b01-84dd-fdb7418729f3",
   "metadata": {},
   "source": [
    "### Модуль 2: Обработка ответов"
   ]
  },
  {
   "cell_type": "code",
   "execution_count": null,
   "id": "b8a36fb5-1054-4936-bb43-c8410e2a965b",
   "metadata": {},
   "outputs": [],
   "source": [
    "response = requests.get('https://httpbin.org/get')\n",
    "\n",
    "print(f\"Status Code: {response.status_code}\")\n",
    "print(f\"Headers: {dict(response.headers)}\")\n",
    "print(f\"Content Type: {response.headers.get('Content-Type')}\")\n",
    "print(f\"Encoding: {response.encoding}\")\n",
    "print(f\"Response Time: {response.elapsed.total_seconds()} seconds\")\n",
    "\n",
    "# Проверка успешности запроса\n",
    "if response.status_code == 200:\n",
    "    print(\"Запрос успешен!\")\n",
    "else:\n",
    "    print(f\"Ошибка: {response.status_code}\")"
   ]
  },
  {
   "cell_type": "code",
   "execution_count": null,
   "id": "eac041c0-9579-4a7d-8fce-a5b7c584441d",
   "metadata": {
    "tags": []
   },
   "outputs": [],
   "source": [
    "response = requests.get('https://api.github.com/users/octocat')\n",
    "\n",
    "# Для JSON ответов\n",
    "if 'application/json' in response.headers.get('Content-Type', ''):\n",
    "    user_data = response.json()\n",
    "    print(f\"User: {user_data.get('login')}\")\n",
    "    print(f\"Name: {user_data.get('name')}\")\n",
    "\n",
    "# Для текстовых ответов\n",
    "else:\n",
    "    print(response.text)\n"
   ]
  },
  {
   "cell_type": "code",
   "execution_count": null,
   "id": "c8e4e00d-0757-42d6-ad89-55ffb6f71705",
   "metadata": {},
   "outputs": [],
   "source": [
    "# Сохранение бинарных данных (например, изображение)\n",
    "image_response = requests.get('https://httpbin.org/image/jpeg')\n",
    "if image_response.status_code == 200:\n",
    "    with open('image.jpg', 'wb') as f:\n",
    "        f.write(image_response.content)\n",
    "    print(\"Изображение сохранено!\")"
   ]
  },
  {
   "cell_type": "markdown",
   "id": "10745bc3-7be4-4a2d-8547-afa0d315ddc8",
   "metadata": {
    "tags": []
   },
   "source": [
    "### Модуль 3: Различные типы запросов"
   ]
  },
  {
   "cell_type": "code",
   "execution_count": null,
   "id": "9ce2643b-2508-4a59-8ac2-02fa8764b163",
   "metadata": {
    "tags": []
   },
   "outputs": [],
   "source": [
    "# POST с данными формы\n",
    "data = {\n",
    "    'username': 'testuser',\n",
    "    'password': 'testpass'\n",
    "}\n",
    "\n",
    "response = requests.post('https://httpbin.org/post', data=data)\n",
    "print(f\"Form Data Response: {response.json()}\")"
   ]
  },
  {
   "cell_type": "code",
   "execution_count": null,
   "id": "bbd19c85-e281-4e1b-b4c2-a1b2337cba0b",
   "metadata": {
    "tags": []
   },
   "outputs": [],
   "source": [
    "# POST с JSON данными\n",
    "json_data = {\n",
    "    'name': 'John Doe',\n",
    "    'email': 'john@example.com',\n",
    "    'age': 30\n",
    "}\n",
    "\n",
    "headers = {'Content-Type': 'application/json'}\n",
    "response = requests.post(\n",
    "    'https://httpbin.org/post', \n",
    "    json=json_data,  # Автоматически сериализует в JSON и устанавливает заголовок\n",
    "    headers=headers\n",
    ")\n",
    "print(f\"JSON Response: {response.json()}\")"
   ]
  },
  {
   "cell_type": "code",
   "execution_count": null,
   "id": "6d2366bb-9bab-4321-8041-30d67ab8cb7b",
   "metadata": {
    "tags": []
   },
   "outputs": [],
   "source": [
    "# Отправка файла\n",
    "files = {'file': open('example.txt', 'rb')}\n",
    "response = requests.post('https://httpbin.org/post', files=files)\n",
    "print(f\"File Upload Response: {response.json()}\")"
   ]
  },
  {
   "cell_type": "code",
   "execution_count": null,
   "id": "14cc94c0-ffa6-47a6-a33f-870489368a42",
   "metadata": {
    "tags": []
   },
   "outputs": [],
   "source": [
    "# PUT запрос (обновление ресурса)\n",
    "data = {'key': 'updated_value'}\n",
    "response = requests.put('https://httpbin.org/put', data=data)\n",
    "print(f\"PUT Response: {response.json()}\")"
   ]
  },
  {
   "cell_type": "code",
   "execution_count": null,
   "id": "2afe5b71-8877-4c3d-8312-8e48e8d8674e",
   "metadata": {
    "tags": []
   },
   "outputs": [],
   "source": [
    "response = requests.delete('https://httpbin.org/delete')\n",
    "\n",
    "if response.status_code == 200:\n",
    "    print(\"DELETE запрос успешно выполнен\")\n",
    "    print(f\"Статус код: {response.status_code}\")\n",
    "else:\n",
    "    print(f\"Ошибка: {response.status_code}\")"
   ]
  },
  {
   "cell_type": "code",
   "execution_count": null,
   "id": "9aa825a7-5fa4-4432-ab1e-196e10b5c701",
   "metadata": {
    "tags": []
   },
   "outputs": [],
   "source": [
    "# PATCH запрос (частичное обновление)\n",
    "patch_data = {'email': 'new_email@example.com'}\n",
    "response = requests.patch('https://httpbin.org/patch', data=patch_data)\n",
    "print(f\"PATCH Response: {response.json()}\")"
   ]
  },
  {
   "cell_type": "markdown",
   "id": "185747af-82be-4fe7-964c-c53a3f6eac2a",
   "metadata": {},
   "source": [
    "### Модуль 4: Работа с заголовками и куки"
   ]
  },
  {
   "cell_type": "code",
   "execution_count": null,
   "id": "661facc6-85e2-4d9f-843d-14ef908342da",
   "metadata": {
    "tags": []
   },
   "outputs": [],
   "source": [
    "# Установка заголовков\n",
    "headers = {\n",
    "    'User-Agent': 'MyApp/1.0',\n",
    "    'Authorization': 'Bearer your_token_here',\n",
    "    'Accept': 'application/json',\n",
    "    'Custom-Header': 'custom_value'\n",
    "}\n",
    "\n",
    "response = requests.get('https://httpbin.org/headers', headers=headers)\n",
    "print(f\"Request Headers: {response.json()}\")"
   ]
  },
  {
   "cell_type": "code",
   "execution_count": null,
   "id": "40b3d860-d41d-4ee6-81e3-5589922f07fe",
   "metadata": {
    "tags": []
   },
   "outputs": [],
   "source": [
    "# Отправка куки с запросом\n",
    "cookies = {'session_id': 'abc123', 'user_id': '456'}\n",
    "response = requests.get('https://httpbin.org/cookies', cookies=cookies)\n",
    "print(f\"Sent Cookies: {response.json()}\")"
   ]
  },
  {
   "cell_type": "code",
   "execution_count": null,
   "id": "958702a7-4de8-4841-a48b-bd088fefba0b",
   "metadata": {
    "tags": []
   },
   "outputs": [],
   "source": [
    "# Получение куки из ответа\n",
    "response = requests.get('https://httpbin.org/cookies/set?name=value')\n",
    "print(f\"Received Cookies: {response.cookies}\")\n",
    "print(f\"Specific Cookie: {response.cookies.get('name')}\")"
   ]
  },
  {
   "cell_type": "code",
   "execution_count": null,
   "id": "e3c44cc8-5414-474a-b668-7de289268654",
   "metadata": {
    "tags": []
   },
   "outputs": [],
   "source": [
    "# Сессии для сохранения куки между запросами\n",
    "session = requests.Session()\n",
    "session.get('https://httpbin.org/cookies/set/sessioncookie/123456789')\n",
    "response = session.get('https://httpbin.org/cookies')\n",
    "print(f\"Session Cookies: {response.json()}\")"
   ]
  },
  {
   "cell_type": "markdown",
   "id": "f4cd4b23-a000-4b4d-9f29-1db8d2896c8e",
   "metadata": {
    "tags": []
   },
   "source": [
    "### Модуль 5: Обработка ошибок и таймауты"
   ]
  },
  {
   "cell_type": "code",
   "execution_count": null,
   "id": "498310cc-8510-43e0-811b-b013aaa9022d",
   "metadata": {
    "tags": []
   },
   "outputs": [],
   "source": [
    "try:\n",
    "    response = requests.get('https://invalid-url-that-does-not-exist.com', timeout=5)\n",
    "    response.raise_for_status()  # Вызывает исключение для кодов 4xx/5xx\n",
    "    \n",
    "except requests.exceptions.Timeout:\n",
    "    print(\"Запрос превысил время ожидания\")\n",
    "    \n",
    "except requests.exceptions.ConnectionError:\n",
    "    print(\"Ошибка соединения\")\n",
    "    \n",
    "except requests.exceptions.HTTPError as e:\n",
    "    print(f\"HTTP ошибка: {e}\")\n",
    "    \n",
    "except RequestException as e:\n",
    "    print(f\"Общая ошибка запроса: {e}\")\n",
    "    \n",
    "else:\n",
    "    print(\"Запрос выполнен успешно!\")"
   ]
  },
  {
   "cell_type": "code",
   "execution_count": 3,
   "id": "18f0ccb4-2223-424b-8fd6-9cd7f37980cf",
   "metadata": {
    "tags": []
   },
   "outputs": [
    {
     "name": "stdout",
     "output_type": "stream",
     "text": [
      "Запрос успешно выполнен\n"
     ]
    }
   ],
   "source": [
    "# Таймаут на соединение и чтение\n",
    "try:\n",
    "    response = requests.get('https://httpbin.org/delay/3', timeout=(2, 5))\n",
    "    if response.status_code == 200:\n",
    "        print(\"Запрос успешно выполнен!\")\n",
    "except requests.exceptions.Timeout:\n",
    "    print(\"Таймаут соединения или чтения\")"
   ]
  },
  {
   "cell_type": "code",
   "execution_count": 5,
   "id": "a9e2bace-85bf-4448-a864-abf4d7995e5f",
   "metadata": {
    "tags": []
   },
   "outputs": [
    {
     "name": "stdout",
     "output_type": "stream",
     "text": [
      "Запрос успешно выполнен!\n"
     ]
    }
   ],
   "source": [
    "# Таймаут только на соединение\n",
    "try:\n",
    "    response = requests.get('https://httpbin.org/delay/1', timeout=5)\n",
    "    # Общий таймаут для всего запроса\n",
    "    if response.status_code == 200:\n",
    "        print(\"Запрос успешно выполнен!\") \n",
    "except requests.exceptions.Timeout:\n",
    "    print(\"Общий таймаут запроса\")"
   ]
  },
  {
   "cell_type": "markdown",
   "id": "a9e8cbdf-6e76-48a4-b4b9-6e30c8693109",
   "metadata": {},
   "source": [
    "### Модуль 6: Продвинутые техники"
   ]
  },
  {
   "cell_type": "code",
   "execution_count": 6,
   "id": "f35a4913-7a09-40fb-b267-d9d5a981c98d",
   "metadata": {
    "tags": []
   },
   "outputs": [
    {
     "name": "stdout",
     "output_type": "stream",
     "text": [
      "Authenticated Cookies: {'cookies': {}}\n"
     ]
    }
   ],
   "source": [
    "# Создание сессии для сохранения куки и заголовков между запросами\n",
    "session = requests.Session()\n",
    "\n",
    "# Установка общих заголовков для всех запросов сессии\n",
    "session.headers.update({\n",
    "    'User-Agent': 'MyPythonApp/1.0',\n",
    "    'Accept': 'application/json'\n",
    "})\n",
    "\n",
    "# Аутентификация\n",
    "auth_data = {'username': 'user', 'password': 'pass'}\n",
    "session.post('https://httpbin.org/post', data=auth_data)\n",
    "\n",
    "# Последующие запросы будут использовать куки аутентификации\n",
    "response = session.get('https://httpbin.org/cookies')\n",
    "print(f\"Authenticated Cookies: {response.json()}\")\n",
    "\n",
    "# Закрытие сессии\n",
    "session.close()"
   ]
  },
  {
   "cell_type": "markdown",
   "id": "a99e90c0-7e4d-43aa-8007-97d1b46a6024",
   "metadata": {},
   "source": [
    "### Модуль 7: Практические примеры"
   ]
  },
  {
   "cell_type": "markdown",
   "id": "ed599e09-f98c-4d82-b4e3-02fe05813dd6",
   "metadata": {},
   "source": [
    "Пример 1: Работа с API GitHub"
   ]
  },
  {
   "cell_type": "code",
   "execution_count": 12,
   "id": "8b010df3-7b26-4400-b68e-9a270fdc3187",
   "metadata": {
    "tags": []
   },
   "outputs": [
    {
     "name": "stdout",
     "output_type": "stream",
     "text": [
      "mrvdanilov Info: {'name': None, 'bio': None, 'public_repos': 4, 'followers': 1}\n"
     ]
    }
   ],
   "source": [
    "def get_github_user_info(username):\n",
    "    url = f'https://api.github.com/users/{username}'\n",
    "    response = requests.get(url)\n",
    "    \n",
    "    if response.status_code == 200:\n",
    "        user_data = response.json()\n",
    "        return {\n",
    "            'name': user_data.get('name'),\n",
    "            'bio': user_data.get('bio'),\n",
    "            'public_repos': user_data.get('public_repos'),\n",
    "            'followers': user_data.get('followers')\n",
    "        }\n",
    "    else:\n",
    "        return None\n",
    "\n",
    "# Использование\n",
    "user_info = get_github_user_info('mrvdanilov')\n",
    "if user_info:\n",
    "    print(f\"mrvdanilov Info: {user_info}\")"
   ]
  },
  {
   "cell_type": "markdown",
   "id": "c648b358-a889-4f71-b065-37ba8182b1b7",
   "metadata": {},
   "source": [
    "Пример 2: Загрузка файла с прогрессом"
   ]
  },
  {
   "cell_type": "code",
   "execution_count": 13,
   "id": "f05165c8-125b-42a2-b77a-286ae7fcf27b",
   "metadata": {
    "tags": []
   },
   "outputs": [
    {
     "name": "stdout",
     "output_type": "stream",
     "text": [
      "Downloaded: 100.0%\n",
      "File downloaded: downloaded_image.jpg\n"
     ]
    }
   ],
   "source": [
    "def download_file(url, filename):\n",
    "    response = requests.get(url, stream=True)\n",
    "    response.raise_for_status()\n",
    "    \n",
    "    total_size = int(response.headers.get('content-length', 0))\n",
    "    downloaded = 0\n",
    "    \n",
    "    with open(filename, 'wb') as f:\n",
    "        for chunk in response.iter_content(chunk_size=8192):\n",
    "            if chunk:\n",
    "                f.write(chunk)\n",
    "                downloaded += len(chunk)\n",
    "                progress = (downloaded / total_size) * 100\n",
    "                print(f\"Downloaded: {progress:.1f}%\", end='\\r')\n",
    "    \n",
    "    print(f\"\\nFile downloaded: {filename}\")\n",
    "\n",
    "# Использование\n",
    "download_file('https://httpbin.org/image/jpeg', 'downloaded_image.jpg')"
   ]
  },
  {
   "cell_type": "markdown",
   "id": "258748f7-6d1b-4faa-976c-f08fe30d512f",
   "metadata": {},
   "source": [
    "Пример 3: Пакетные запросы"
   ]
  },
  {
   "cell_type": "code",
   "execution_count": null,
   "id": "d2266745-36d6-4204-8f2f-6aa48bc4d778",
   "metadata": {
    "tags": []
   },
   "outputs": [],
   "source": [
    "def fetch_url(url):\n",
    "    try:\n",
    "        response = requests.get(url, timeout=5)\n",
    "        return {\n",
    "            'url': url,\n",
    "            'status': response.status_code,\n",
    "            'size': len(response.content),\n",
    "            'time': response.elapsed.total_seconds()\n",
    "        }\n",
    "    except Exception as e:\n",
    "        return {\n",
    "            'url': url,\n",
    "            'error': str(e)\n",
    "        }\n",
    "\n",
    "def batch_requests(urls, max_workers=5):\n",
    "    start_time = time.time()\n",
    "    \n",
    "    with ThreadPoolExecutor(max_workers=max_workers) as executor:\n",
    "        results = list(executor.map(fetch_url, urls))\n",
    "    \n",
    "    total_time = time.time() - start_time\n",
    "    print(f\"Total time for {len(urls)} requests: {total_time:.2f} seconds\")\n",
    "    \n",
    "    return results\n",
    "\n",
    "# Использование\n",
    "urls = [\n",
    "    'https://httpbin.org/get',\n",
    "    'https://httpbin.org/ip',\n",
    "    'https://httpbin.org/user-agent',\n",
    "    'https://httpbin.org/headers'\n",
    "]\n",
    "\n",
    "results = batch_requests(urls)\n",
    "for result in results:\n",
    "    print(result)"
   ]
  },
  {
   "cell_type": "markdown",
   "id": "1dc2d38a-50b1-445c-9e2a-b29b54e953f2",
   "metadata": {
    "tags": []
   },
   "source": [
    "## Заключение"
   ]
  },
  {
   "cell_type": "markdown",
   "id": "5a8fe1b0-9e39-46f5-9557-6afe1da216b9",
   "metadata": {
    "tags": []
   },
   "source": [
    "Библиотека requests предоставляет мощный и удобный интерфейс для работы с HTTP-запросами в Python. Освоив эти техники, вы сможете эффективно взаимодействовать с веб-сервисами, API и другими HTTP-ресурсами.\n",
    "\n",
    "Дополнительные ресурсы:\n",
    "\n",
    "https://requests.readthedocs.io/en/latest/\n",
    "\n",
    "https://www.webfx.com/web-development/glossary/http-status-codes/\n",
    "\n",
    "https://httpbin.org/\n",
    "\n",
    "Практикуйтесь с этими примерами и экспериментируйте с различными API, чтобы закрепить полученные знания!"
   ]
  },
  {
   "cell_type": "code",
   "execution_count": null,
   "id": "b7b4174d-a4ed-438c-a2de-05387e4885b3",
   "metadata": {},
   "outputs": [],
   "source": []
  }
 ],
 "metadata": {
  "kernelspec": {
   "display_name": "Python 3 (ipykernel)",
   "language": "python",
   "name": "python3"
  },
  "language_info": {
   "codemirror_mode": {
    "name": "ipython",
    "version": 3
   },
   "file_extension": ".py",
   "mimetype": "text/x-python",
   "name": "python",
   "nbconvert_exporter": "python",
   "pygments_lexer": "ipython3",
   "version": "3.11.5"
  }
 },
 "nbformat": 4,
 "nbformat_minor": 5
}
