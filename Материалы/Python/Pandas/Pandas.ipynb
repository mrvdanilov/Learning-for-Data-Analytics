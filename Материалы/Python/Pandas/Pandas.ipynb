{
 "cells": [
  {
   "cell_type": "markdown",
   "id": "4556e204-fbab-4e55-8769-68f9f2e1cdcf",
   "metadata": {},
   "source": [
    "# Pandas"
   ]
  },
  {
   "cell_type": "markdown",
   "id": "212cf12d-6549-4b97-aacb-d336348571a3",
   "metadata": {
    "tags": []
   },
   "source": [
    "Библиотека Pandas – мощный инструмент для анализа и обработки табличных данных. Pandas используется в инженерных, научных и финансовых вычислениях – словом, везде, где нужны:\n",
    "\n",
    "* Анализ, исследование, сегментация, очистка, преобразование данных. Библиотека предоставляет множество функций для загрузки и обработки данных из различных источников. С помощью Pandas можно анализировать любую информацию, исследовать ее характеристики и особенности, а также преобразовывать данные в нужный формат для дальнейшего использования – в бизнес-аналитике, машинном обучении и т.п.\n",
    "* Сортировка, группировка и агрегация данных. В Pandas есть удобные функции для сортировки данных по различным критериям, группировки по определенным признакам и выполнения агрегации (суммирование, подсчет среднего значения, максимума и минимума и т.д.)\n",
    "* Индексация, фильтрация и выборка многомерных данных. Pandas позволяет использовать различные типы индексов и создавать многомерные индексы с помощью MultiIndex. Это помогает легко находить, фильтровать и выбирать нужные данные по различным критериям.\n",
    "* Определение эффективности и рисков, прогнозирование событий, оптимизация. Библиотеку можно использовать для прогнозирования спроса на основе исторических данных, анализа трендов и паттернов, а также для определения факторов, влияющих на эффективность бизнеса, результативность кампаний и прибыльность инвестиций.\n",
    "* Работа с временными рядами. Pandas обладает мощными возможностями для работы с временными рядами – позволяет выполнять индексацию по времени, агрегацию и ресемплирование временных данных, проводит анализ и визуализацию временных рядов. Это делает Pandas идеальным инструментом для работы с IoT, финансовыми и климатическими данными и другими областями, где временные ряды играют важную роль.\n",
    "* Формирование отчетов и визуализация данных. Pandas используют (совместно с Matplotlib и Seaborn) для создания отчетов и визуализации многомерных данных в виде наглядных таблиц, графиков и диаграмм."
   ]
  },
  {
   "cell_type": "markdown",
   "id": "5b0c0336-b950-4143-bc93-46e99d15277f",
   "metadata": {},
   "source": [
    "В Pandas есть две основные высокоуровневые структуры данных – DataFrame и Series.\n",
    "\n",
    "DataFrame – это двумерная табличная структура данных. Каждый столбец в таблице может содержать данные различного типа (числа, строки, булевы значения и т.д.). DataFrame располагает удобными методами для индексации, фильтрации, сортировки, группировки, агрегирования, слияния, объединения и преобразования данных. DataFrame можно сравнить с таблицей в реляционной базе данных или листом в Excel:"
   ]
  },
  {
   "cell_type": "code",
   "execution_count": 4,
   "id": "76c27fa5-2b78-4688-8f11-36152389a46a",
   "metadata": {
    "tags": []
   },
   "outputs": [
    {
     "name": "stdout",
     "output_type": "stream",
     "text": [
      "{'Имя': ['Егор', 'Анна', 'Никита', 'Марина'], 'Возраст': [25, 30, 28, 35], 'Город': ['Москва', 'Самара', 'Ростов', 'Нижний Новгород']}\n"
     ]
    },
    {
     "data": {
      "text/html": [
       "<div>\n",
       "<style scoped>\n",
       "    .dataframe tbody tr th:only-of-type {\n",
       "        vertical-align: middle;\n",
       "    }\n",
       "\n",
       "    .dataframe tbody tr th {\n",
       "        vertical-align: top;\n",
       "    }\n",
       "\n",
       "    .dataframe thead th {\n",
       "        text-align: right;\n",
       "    }\n",
       "</style>\n",
       "<table border=\"1\" class=\"dataframe\">\n",
       "  <thead>\n",
       "    <tr style=\"text-align: right;\">\n",
       "      <th></th>\n",
       "      <th>Имя</th>\n",
       "      <th>Возраст</th>\n",
       "      <th>Город</th>\n",
       "    </tr>\n",
       "  </thead>\n",
       "  <tbody>\n",
       "    <tr>\n",
       "      <th>0</th>\n",
       "      <td>Егор</td>\n",
       "      <td>25</td>\n",
       "      <td>Москва</td>\n",
       "    </tr>\n",
       "    <tr>\n",
       "      <th>1</th>\n",
       "      <td>Анна</td>\n",
       "      <td>30</td>\n",
       "      <td>Самара</td>\n",
       "    </tr>\n",
       "    <tr>\n",
       "      <th>2</th>\n",
       "      <td>Никита</td>\n",
       "      <td>28</td>\n",
       "      <td>Ростов</td>\n",
       "    </tr>\n",
       "    <tr>\n",
       "      <th>3</th>\n",
       "      <td>Марина</td>\n",
       "      <td>35</td>\n",
       "      <td>Нижний Новгород</td>\n",
       "    </tr>\n",
       "  </tbody>\n",
       "</table>\n",
       "</div>"
      ],
      "text/plain": [
       "      Имя  Возраст            Город\n",
       "0    Егор       25           Москва\n",
       "1    Анна       30           Самара\n",
       "2  Никита       28           Ростов\n",
       "3  Марина       35  Нижний Новгород"
      ]
     },
     "execution_count": 4,
     "metadata": {},
     "output_type": "execute_result"
    }
   ],
   "source": [
    "import pandas as pd\n",
    "\n",
    "# создаем DataFrame из словаря\n",
    "data = {'Имя': ['Егор', 'Анна', 'Никита', 'Марина'],\n",
    "        'Возраст': [25, 30, 28, 35],\n",
    "        'Город': ['Москва', 'Самара', 'Ростов', 'Нижний Новгород']}\n",
    "\n",
    "print(data)\n",
    "\n",
    "df = pd.DataFrame(data)\n",
    "\n",
    "# выводим DataFrame на экран \n",
    "df.head()"
   ]
  },
  {
   "cell_type": "markdown",
   "id": "2b39543f-69c9-4c13-8279-707f8442dd9f",
   "metadata": {},
   "source": [
    "Series – это одномерная маркированная структура данных, состоящая из индексов и соответствующих значений. В качестве меток могут выступать числа, даты, временные интервалы и строки. Метки позволяют получать доступ к элементам данных по определенным уникальным именам, а не только по индексам. Это особенно удобно в тех случаях, когда нужно обращаться к конкретным значениям по определенным меткам или условиям. Series можно рассматривать как упорядоченный словарь:"
   ]
  },
  {
   "cell_type": "code",
   "execution_count": 6,
   "id": "988892f0-670e-420d-8176-94849e1882dd",
   "metadata": {
    "tags": []
   },
   "outputs": [
    {
     "name": "stdout",
     "output_type": "stream",
     "text": [
      "Ноутбуки      35000\n",
      "Мониторы       6000\n",
      "Принтеры       3000\n",
      "Клавиатуры     2000\n",
      "dtype: int64\n",
      "3000\n"
     ]
    }
   ],
   "source": [
    "# import pandas as pd\n",
    "\n",
    "data = [35000, 6000, 3000, 2000]\n",
    "labels = ['Ноутбуки', 'Мониторы', 'Принтеры', 'Клавиатуры']\n",
    "\n",
    "series = pd.Series(data, index=labels)\n",
    "\n",
    "print(series)\n",
    "\n",
    "print(series['Принтеры'])  # выводим значение 3000, обращаясь к элементу с меткой 'Принтеры'"
   ]
  },
  {
   "cell_type": "markdown",
   "id": "62d5eb92-ec2b-486d-b155-e6db8f37c784",
   "metadata": {},
   "source": [
    "Для операций с трехмерными данными в Pandas раньше использовалась структура Panel. Теперь вместо Panel используется MultiIndex в сочетании с DataFrame. MultiIndex позволяет создавать иерархические индексы для многомерных массивов данных:"
   ]
  },
  {
   "cell_type": "code",
   "execution_count": 7,
   "id": "c07c4c4c-e8d1-4a1d-8cf6-8501c3cb85c9",
   "metadata": {
    "tags": []
   },
   "outputs": [
    {
     "data": {
      "text/html": [
       "<div>\n",
       "<style scoped>\n",
       "    .dataframe tbody tr th:only-of-type {\n",
       "        vertical-align: middle;\n",
       "    }\n",
       "\n",
       "    .dataframe tbody tr th {\n",
       "        vertical-align: top;\n",
       "    }\n",
       "\n",
       "    .dataframe thead th {\n",
       "        text-align: right;\n",
       "    }\n",
       "</style>\n",
       "<table border=\"1\" class=\"dataframe\">\n",
       "  <thead>\n",
       "    <tr style=\"text-align: right;\">\n",
       "      <th></th>\n",
       "      <th></th>\n",
       "      <th>Продажи</th>\n",
       "      <th>Прибыль</th>\n",
       "    </tr>\n",
       "  </thead>\n",
       "  <tbody>\n",
       "    <tr>\n",
       "      <th rowspan=\"2\" valign=\"top\">Москва</th>\n",
       "      <th>Ноутбуки</th>\n",
       "      <td>1000</td>\n",
       "      <td>200000</td>\n",
       "    </tr>\n",
       "    <tr>\n",
       "      <th>Настольные ПК</th>\n",
       "      <td>3000</td>\n",
       "      <td>400000</td>\n",
       "    </tr>\n",
       "    <tr>\n",
       "      <th rowspan=\"2\" valign=\"top\">Санкт-Петербург</th>\n",
       "      <th>Ноутбуки</th>\n",
       "      <td>5000</td>\n",
       "      <td>600000</td>\n",
       "    </tr>\n",
       "    <tr>\n",
       "      <th>Настольные ПК</th>\n",
       "      <td>7000</td>\n",
       "      <td>800000</td>\n",
       "    </tr>\n",
       "  </tbody>\n",
       "</table>\n",
       "</div>"
      ],
      "text/plain": [
       "                               Продажи  Прибыль\n",
       "Москва          Ноутбуки          1000   200000\n",
       "                Настольные ПК     3000   400000\n",
       "Санкт-Петербург Ноутбуки          5000   600000\n",
       "                Настольные ПК     7000   800000"
      ]
     },
     "execution_count": 7,
     "metadata": {},
     "output_type": "execute_result"
    }
   ],
   "source": [
    "# import pandas as pd\n",
    "\n",
    "# создаем MultiIndex с двумя уровнями\n",
    "index = pd.MultiIndex.from_tuples([('Москва', 'Ноутбуки'), ('Москва', 'Настольные ПК'),\n",
    "                                   ('Санкт-Петербург', 'Ноутбуки'), ('Санкт-Петербург', 'Настольные ПК')])\n",
    "\n",
    "# создаем DataFrame с MultiIndex\n",
    "data = [[1000, 200000], [3000, 400000], [5000, 600000], [7000, 800000]]\n",
    "\n",
    "df = pd.DataFrame(data, index=index, columns=['Продажи', 'Прибыль'])\n",
    "\n",
    "df.head()"
   ]
  },
  {
   "cell_type": "markdown",
   "id": "44055787-b68f-4ff3-a185-bce96871aa44",
   "metadata": {},
   "source": [
    "#### Создание серий"
   ]
  },
  {
   "cell_type": "markdown",
   "id": "01f326a0-b2bd-4eaf-9af9-8dd4b42bb100",
   "metadata": {},
   "source": [
    "Метод pd.Series() создает одномерный массив Series из почти любых исходных данных. Так можно создать Series из списка и словаря:"
   ]
  },
  {
   "cell_type": "code",
   "execution_count": 10,
   "id": "376b8b92-5ca7-43cd-b334-8d3ab0c97154",
   "metadata": {
    "tags": []
   },
   "outputs": [
    {
     "data": {
      "text/plain": [
       "0    10\n",
       "1    20\n",
       "2    30\n",
       "3    40\n",
       "4    50\n",
       "dtype: int64"
      ]
     },
     "execution_count": 10,
     "metadata": {},
     "output_type": "execute_result"
    }
   ],
   "source": [
    "# import pandas as pd\n",
    "\n",
    "# создаем Series из списка\n",
    "data1 = [10, 20, 30, 40, 50]\n",
    "series1 = pd.Series(data1)\n",
    "\n",
    "series1.head()\n"
   ]
  },
  {
   "cell_type": "code",
   "execution_count": 12,
   "id": "b4bd4e8e-3a13-404b-92c1-8947ca0074df",
   "metadata": {
    "tags": []
   },
   "outputs": [
    {
     "name": "stdout",
     "output_type": "stream",
     "text": [
      "Variable   Type          Data/Info\n",
      "----------------------------------\n",
      "data       list          n=4\n",
      "data1      list          n=5\n",
      "data2      dict          n=5\n",
      "df         DataFrame                              <...>ьные ПК     7000   800000\n",
      "index      MultiIndex    MultiIndex([(         'Мо<...>ьные ПК')],\\n           )\n",
      "labels     list          n=4\n",
      "pd         module        <module 'pandas' from 'C:<...>es\\\\pandas\\\\__init__.py'>\n",
      "series     Series        Ноутбуки      35000\\nМони<...>ры     2000\\ndtype: int64\n",
      "series1    Series        0    10\\n1    20\\n2    30<...>40\\n4    50\\ndtype: int64\n",
      "series2    Series        А    10\\nБ    20\\nВ    30<...>40\\nД    50\\ndtype: int64\n"
     ]
    }
   ],
   "source": [
    "# создаем Series из словаря\n",
    "data2 = {'А': 10, 'Б': 20, 'В': 30, 'Г': 40, 'Д': 50}\n",
    "series2 = pd.Series(data2)\n",
    "\n",
    "series2.head()\n"
   ]
  },
  {
   "cell_type": "markdown",
   "id": "e68be264-10d2-4e24-ad1f-8796825a9987",
   "metadata": {},
   "source": [
    "Так при создании Series можно задать нужные метки:"
   ]
  },
  {
   "cell_type": "code",
   "execution_count": 13,
   "id": "754ca5e3-4bc9-4478-a968-2621c91c88a5",
   "metadata": {
    "tags": []
   },
   "outputs": [
    {
     "name": "stdout",
     "output_type": "stream",
     "text": [
      "2019    10\n",
      "2020    20\n",
      "2021    30\n",
      "2022    40\n",
      "2023    50\n",
      "dtype: int64\n",
      "30\n",
      "50\n"
     ]
    }
   ],
   "source": [
    "import pandas as pd\n",
    "\n",
    "data = [10, 20, 30, 40, 50]\n",
    "index = ['2019', '2020', '2021', '2022', '2023']\n",
    "\n",
    "series = pd.Series(data, index=index)\n",
    "\n",
    "print(series)\n",
    "print(series['2021'])  # вывод: 30\n",
    "print(series['2023'])  # вывод: 50 "
   ]
  },
  {
   "cell_type": "markdown",
   "id": "a528a3c9-f4e1-48f5-9029-daf49842af5b",
   "metadata": {},
   "source": [
    "Так можно создать Series из массива NumPy:"
   ]
  },
  {
   "cell_type": "code",
   "execution_count": 14,
   "id": "0266416e-bfda-4b2a-9a6f-49dba47dbe1f",
   "metadata": {
    "tags": []
   },
   "outputs": [
    {
     "name": "stdout",
     "output_type": "stream",
     "text": [
      "0    10\n",
      "1    20\n",
      "2    30\n",
      "3    40\n",
      "4    50\n",
      "dtype: int32\n"
     ]
    }
   ],
   "source": [
    "import pandas as pd\n",
    "import numpy as np\n",
    "\n",
    "data = np.array([10, 20, 30, 40, 50])\n",
    "\n",
    "series = pd.Series(data)\n",
    "\n",
    "print(series)"
   ]
  },
  {
   "cell_type": "markdown",
   "id": "38833586-ff54-46f4-8a0c-81615c7ed5cf",
   "metadata": {},
   "source": [
    "А еще Series можно создать с помощью функции range():"
   ]
  },
  {
   "cell_type": "code",
   "execution_count": 15,
   "id": "6f55186b-1162-4fe6-901b-2310dc7de0a5",
   "metadata": {
    "tags": []
   },
   "outputs": [
    {
     "name": "stdout",
     "output_type": "stream",
     "text": [
      "a    1\n",
      "b    2\n",
      "c    3\n",
      "d    4\n",
      "e    5\n",
      "Name: числа, dtype: int64\n"
     ]
    }
   ],
   "source": [
    "import pandas as pd\n",
    "\n",
    "series = pd.Series(range(1, 6), index=['a', 'b', 'c', 'd', 'e'], name='числа')\n",
    "\n",
    "print(series)"
   ]
  },
  {
   "cell_type": "markdown",
   "id": "c0fac5bf-d90c-4526-9607-a3ee72f252e0",
   "metadata": {},
   "source": [
    "На практике очень часто Series (и DataFrame, как мы увидим позже) создают из данных, представленных в csv файлах. К примеру, есть файл data.csv с таким содержимым:"
   ]
  },
  {
   "cell_type": "code",
   "execution_count": 18,
   "id": "5c5e0249-6d00-4680-ae02-12d7d67ec9fe",
   "metadata": {
    "tags": []
   },
   "outputs": [
    {
     "data": {
      "text/plain": [
       "0    1\n",
       "1    2\n",
       "2    3\n",
       "3    4\n",
       "4    5\n",
       "Name: столбец_1, dtype: int64"
      ]
     },
     "execution_count": 18,
     "metadata": {},
     "output_type": "execute_result"
    }
   ],
   "source": [
    "import pandas as pd\n",
    "\n",
    "dataframe = pd.read_csv('data.csv')\n",
    "dataframe.head()\n",
    "\n",
    "series_1 = dataframe['столбец_1']\n",
    "series_2 = dataframe['столбец_2']\n",
    "series_3 = dataframe['столбец_3']\n",
    "\n",
    "series_1.head()"
   ]
  },
  {
   "cell_type": "markdown",
   "id": "242acbec-88d9-456c-81d3-2ee189616749",
   "metadata": {},
   "source": [
    "#### Способы создания DataFrame"
   ]
  },
  {
   "cell_type": "markdown",
   "id": "ad0812be-4c6d-4519-a903-d149f67517d5",
   "metadata": {},
   "source": [
    "DataFrame можно создавать из одномерных и двумерных списков:"
   ]
  },
  {
   "cell_type": "code",
   "execution_count": 20,
   "id": "f719e6e7-4bae-4f59-ad0c-cc165ff3a5d7",
   "metadata": {
    "tags": []
   },
   "outputs": [
    {
     "data": {
      "text/html": [
       "<div>\n",
       "<style scoped>\n",
       "    .dataframe tbody tr th:only-of-type {\n",
       "        vertical-align: middle;\n",
       "    }\n",
       "\n",
       "    .dataframe tbody tr th {\n",
       "        vertical-align: top;\n",
       "    }\n",
       "\n",
       "    .dataframe thead th {\n",
       "        text-align: right;\n",
       "    }\n",
       "</style>\n",
       "<table border=\"1\" class=\"dataframe\">\n",
       "  <thead>\n",
       "    <tr style=\"text-align: right;\">\n",
       "      <th></th>\n",
       "      <th>0</th>\n",
       "      <th>1</th>\n",
       "      <th>2</th>\n",
       "    </tr>\n",
       "  </thead>\n",
       "  <tbody>\n",
       "    <tr>\n",
       "      <th>0</th>\n",
       "      <td>Анна</td>\n",
       "      <td>25</td>\n",
       "      <td>дизайнер</td>\n",
       "    </tr>\n",
       "    <tr>\n",
       "      <th>1</th>\n",
       "      <td>Никита</td>\n",
       "      <td>30</td>\n",
       "      <td>тимлид</td>\n",
       "    </tr>\n",
       "    <tr>\n",
       "      <th>2</th>\n",
       "      <td>Полина</td>\n",
       "      <td>32</td>\n",
       "      <td>бэкендер</td>\n",
       "    </tr>\n",
       "  </tbody>\n",
       "</table>\n",
       "</div>"
      ],
      "text/plain": [
       "        0   1         2\n",
       "0    Анна  25  дизайнер\n",
       "1  Никита  30    тимлид\n",
       "2  Полина  32  бэкендер"
      ]
     },
     "execution_count": 20,
     "metadata": {},
     "output_type": "execute_result"
    }
   ],
   "source": [
    "import pandas as pd\n",
    "\n",
    "data = [['Анна', 25, 'дизайнер'],\n",
    "        ['Никита', 30, 'тимлид'],\n",
    "        ['Полина', 32, 'бэкендер']]\n",
    "\n",
    "df = pd.DataFrame(data)\n",
    "\n",
    "df.head()"
   ]
  },
  {
   "cell_type": "markdown",
   "id": "8a80d33b-5256-4dc8-a635-cab7a97f142d",
   "metadata": {},
   "source": [
    "Создание DataFrame из словаря тоже выглядит просто:"
   ]
  },
  {
   "cell_type": "code",
   "execution_count": 23,
   "id": "048276f5-a9e5-4010-b697-b885cefbe555",
   "metadata": {
    "tags": []
   },
   "outputs": [
    {
     "data": {
      "text/html": [
       "<div>\n",
       "<style scoped>\n",
       "    .dataframe tbody tr th:only-of-type {\n",
       "        vertical-align: middle;\n",
       "    }\n",
       "\n",
       "    .dataframe tbody tr th {\n",
       "        vertical-align: top;\n",
       "    }\n",
       "\n",
       "    .dataframe thead th {\n",
       "        text-align: right;\n",
       "    }\n",
       "</style>\n",
       "<table border=\"1\" class=\"dataframe\">\n",
       "  <thead>\n",
       "    <tr style=\"text-align: right;\">\n",
       "      <th></th>\n",
       "      <th>Имя</th>\n",
       "      <th>Возраст</th>\n",
       "      <th>Город</th>\n",
       "    </tr>\n",
       "  </thead>\n",
       "  <tbody>\n",
       "    <tr>\n",
       "      <th>0</th>\n",
       "      <td>Егор</td>\n",
       "      <td>35</td>\n",
       "      <td>Самара</td>\n",
       "    </tr>\n",
       "    <tr>\n",
       "      <th>1</th>\n",
       "      <td>Полина</td>\n",
       "      <td>30</td>\n",
       "      <td>Ростов</td>\n",
       "    </tr>\n",
       "    <tr>\n",
       "      <th>2</th>\n",
       "      <td>Ника</td>\n",
       "      <td>35</td>\n",
       "      <td>Омск</td>\n",
       "    </tr>\n",
       "  </tbody>\n",
       "</table>\n",
       "</div>"
      ],
      "text/plain": [
       "      Имя  Возраст   Город\n",
       "0    Егор       35  Самара\n",
       "1  Полина       30  Ростов\n",
       "2    Ника       35    Омск"
      ]
     },
     "execution_count": 23,
     "metadata": {},
     "output_type": "execute_result"
    }
   ],
   "source": [
    "import pandas as pd\n",
    "\n",
    "data = {'Имя': ['Егор', 'Полина', 'Ника'],\n",
    "        'Возраст': [35, 30, 35],\n",
    "        'Город': ['Самара', 'Ростов', 'Омск']}\n",
    "\n",
    "df = pd.DataFrame(data)\n",
    "\n",
    "df.head()"
   ]
  },
  {
   "cell_type": "markdown",
   "id": "509ee758-7b16-4c1d-b104-e2ae1dea63e6",
   "metadata": {},
   "source": [
    "Можно создать DataFrame из NumPy массива:"
   ]
  },
  {
   "cell_type": "code",
   "execution_count": 21,
   "id": "bce6d879-bdf5-46a5-b8e3-cf8b44191124",
   "metadata": {
    "tags": []
   },
   "outputs": [
    {
     "data": {
      "text/html": [
       "<div>\n",
       "<style scoped>\n",
       "    .dataframe tbody tr th:only-of-type {\n",
       "        vertical-align: middle;\n",
       "    }\n",
       "\n",
       "    .dataframe tbody tr th {\n",
       "        vertical-align: top;\n",
       "    }\n",
       "\n",
       "    .dataframe thead th {\n",
       "        text-align: right;\n",
       "    }\n",
       "</style>\n",
       "<table border=\"1\" class=\"dataframe\">\n",
       "  <thead>\n",
       "    <tr style=\"text-align: right;\">\n",
       "      <th></th>\n",
       "      <th>А</th>\n",
       "      <th>Б</th>\n",
       "      <th>В</th>\n",
       "    </tr>\n",
       "  </thead>\n",
       "  <tbody>\n",
       "    <tr>\n",
       "      <th>0</th>\n",
       "      <td>1</td>\n",
       "      <td>2</td>\n",
       "      <td>3</td>\n",
       "    </tr>\n",
       "    <tr>\n",
       "      <th>1</th>\n",
       "      <td>4</td>\n",
       "      <td>5</td>\n",
       "      <td>6</td>\n",
       "    </tr>\n",
       "    <tr>\n",
       "      <th>2</th>\n",
       "      <td>7</td>\n",
       "      <td>8</td>\n",
       "      <td>9</td>\n",
       "    </tr>\n",
       "  </tbody>\n",
       "</table>\n",
       "</div>"
      ],
      "text/plain": [
       "   А  Б  В\n",
       "0  1  2  3\n",
       "1  4  5  6\n",
       "2  7  8  9"
      ]
     },
     "execution_count": 21,
     "metadata": {},
     "output_type": "execute_result"
    }
   ],
   "source": [
    "import pandas as pd\n",
    "import numpy as np\n",
    "\n",
    "data = np.array([[1, 2, 3],\n",
    "                 [4, 5, 6],\n",
    "                 [7, 8, 9]])\n",
    "\n",
    "df = pd.DataFrame(data, columns=['А', 'Б', 'В'])\n",
    "\n",
    "df.head()"
   ]
  },
  {
   "cell_type": "markdown",
   "id": "32a9155c-60aa-4453-a4fb-d86b200d0a25",
   "metadata": {},
   "source": [
    "Можно создать DataFrame из одной или нескольких Series – каждая серия станет одним из столбцов:"
   ]
  },
  {
   "cell_type": "code",
   "execution_count": 26,
   "id": "e351c81b-6b9a-44c6-8747-7d5692e8271b",
   "metadata": {
    "tags": []
   },
   "outputs": [
    {
     "data": {
      "text/html": [
       "<div>\n",
       "<style scoped>\n",
       "    .dataframe tbody tr th:only-of-type {\n",
       "        vertical-align: middle;\n",
       "    }\n",
       "\n",
       "    .dataframe tbody tr th {\n",
       "        vertical-align: top;\n",
       "    }\n",
       "\n",
       "    .dataframe thead th {\n",
       "        text-align: right;\n",
       "    }\n",
       "</style>\n",
       "<table border=\"1\" class=\"dataframe\">\n",
       "  <thead>\n",
       "    <tr style=\"text-align: right;\">\n",
       "      <th></th>\n",
       "      <th>XL</th>\n",
       "      <th>M</th>\n",
       "    </tr>\n",
       "  </thead>\n",
       "  <tbody>\n",
       "    <tr>\n",
       "      <th>0</th>\n",
       "      <td>1</td>\n",
       "      <td>4</td>\n",
       "    </tr>\n",
       "    <tr>\n",
       "      <th>1</th>\n",
       "      <td>2</td>\n",
       "      <td>5</td>\n",
       "    </tr>\n",
       "    <tr>\n",
       "      <th>2</th>\n",
       "      <td>3</td>\n",
       "      <td>6</td>\n",
       "    </tr>\n",
       "  </tbody>\n",
       "</table>\n",
       "</div>"
      ],
      "text/plain": [
       "   XL  M\n",
       "0   1  4\n",
       "1   2  5\n",
       "2   3  6"
      ]
     },
     "execution_count": 26,
     "metadata": {},
     "output_type": "execute_result"
    }
   ],
   "source": [
    "import pandas as pd\n",
    "\n",
    "series1 = pd.Series([1, 2, 3], name='XL')\n",
    "series2 = pd.Series([4, 5, 6], name='M')\n",
    "\n",
    "df = pd.DataFrame({series1.name: series1, series2.name: series2})\n",
    "\n",
    "df.head()"
   ]
  },
  {
   "cell_type": "markdown",
   "id": "1856a6d6-13dc-4445-8d55-a916ed121735",
   "metadata": {},
   "source": [
    "Создать DataFrame из csv файла еще проще:"
   ]
  },
  {
   "cell_type": "code",
   "execution_count": 32,
   "id": "3553969b-1ee8-4a24-8cb4-59fe9d0cf1be",
   "metadata": {
    "tags": []
   },
   "outputs": [
    {
     "data": {
      "text/html": [
       "<div>\n",
       "<style scoped>\n",
       "    .dataframe tbody tr th:only-of-type {\n",
       "        vertical-align: middle;\n",
       "    }\n",
       "\n",
       "    .dataframe tbody tr th {\n",
       "        vertical-align: top;\n",
       "    }\n",
       "\n",
       "    .dataframe thead th {\n",
       "        text-align: right;\n",
       "    }\n",
       "</style>\n",
       "<table border=\"1\" class=\"dataframe\">\n",
       "  <thead>\n",
       "    <tr style=\"text-align: right;\">\n",
       "      <th></th>\n",
       "      <th>Москва</th>\n",
       "      <th>Самара</th>\n",
       "    </tr>\n",
       "  </thead>\n",
       "  <tbody>\n",
       "    <tr>\n",
       "      <th>0</th>\n",
       "      <td>10000000</td>\n",
       "      <td>4000000</td>\n",
       "    </tr>\n",
       "    <tr>\n",
       "      <th>1</th>\n",
       "      <td>250000</td>\n",
       "      <td>150000</td>\n",
       "    </tr>\n",
       "    <tr>\n",
       "      <th>2</th>\n",
       "      <td>300</td>\n",
       "      <td>600</td>\n",
       "    </tr>\n",
       "  </tbody>\n",
       "</table>\n",
       "</div>"
      ],
      "text/plain": [
       "     Москва   Самара\n",
       "0  10000000  4000000\n",
       "1    250000   150000\n",
       "2       300      600"
      ]
     },
     "execution_count": 32,
     "metadata": {},
     "output_type": "execute_result"
    }
   ],
   "source": [
    "import pandas as pd\n",
    "\n",
    "df = pd.read_excel('output.xlsx')\n",
    "\n",
    "df.head()"
   ]
  },
  {
   "cell_type": "markdown",
   "id": "c25af1b9-de62-43e9-8e62-78da8c71f003",
   "metadata": {},
   "source": [
    "# Основные методы Pandas"
   ]
  },
  {
   "cell_type": "markdown",
   "id": "3e83e1ee-ab80-4011-81a6-5e1af8657c57",
   "metadata": {},
   "source": [
    "Библиотека предоставляет множество различных функций для работы с DataFrame и Series – здесь мы рассмотрим только самые основные.\n",
    "\n",
    "##### Чтение CSV и XLSX файлов\n",
    "С помощью методов **head()** и **tail()** можно выводить определенное число первых или последних строк файла:"
   ]
  },
  {
   "cell_type": "code",
   "execution_count": 41,
   "id": "ca6b78f7-6c8c-4695-9c22-156c71e13a97",
   "metadata": {
    "tags": []
   },
   "outputs": [
    {
     "data": {
      "text/html": [
       "<div>\n",
       "<style scoped>\n",
       "    .dataframe tbody tr th:only-of-type {\n",
       "        vertical-align: middle;\n",
       "    }\n",
       "\n",
       "    .dataframe tbody tr th {\n",
       "        vertical-align: top;\n",
       "    }\n",
       "\n",
       "    .dataframe thead th {\n",
       "        text-align: right;\n",
       "    }\n",
       "</style>\n",
       "<table border=\"1\" class=\"dataframe\">\n",
       "  <thead>\n",
       "    <tr style=\"text-align: right;\">\n",
       "      <th></th>\n",
       "      <th>столбец_1</th>\n",
       "      <th>столбец_2</th>\n",
       "      <th>столбец_3</th>\n",
       "    </tr>\n",
       "  </thead>\n",
       "  <tbody>\n",
       "    <tr>\n",
       "      <th>3</th>\n",
       "      <td>4</td>\n",
       "      <td>95</td>\n",
       "      <td>Бананы</td>\n",
       "    </tr>\n",
       "    <tr>\n",
       "      <th>4</th>\n",
       "      <td>5</td>\n",
       "      <td>450</td>\n",
       "      <td>Виноград</td>\n",
       "    </tr>\n",
       "    <tr>\n",
       "      <th>5</th>\n",
       "      <td>6</td>\n",
       "      <td>300</td>\n",
       "      <td>Клубника</td>\n",
       "    </tr>\n",
       "    <tr>\n",
       "      <th>6</th>\n",
       "      <td>7</td>\n",
       "      <td>500</td>\n",
       "      <td>Черешня</td>\n",
       "    </tr>\n",
       "    <tr>\n",
       "      <th>7</th>\n",
       "      <td>8</td>\n",
       "      <td>250</td>\n",
       "      <td>Персики</td>\n",
       "    </tr>\n",
       "  </tbody>\n",
       "</table>\n",
       "</div>"
      ],
      "text/plain": [
       "   столбец_1  столбец_2 столбец_3\n",
       "3          4         95    Бананы\n",
       "4          5        450  Виноград\n",
       "5          6        300  Клубника\n",
       "6          7        500   Черешня\n",
       "7          8        250  Персики "
      ]
     },
     "execution_count": 41,
     "metadata": {},
     "output_type": "execute_result"
    }
   ],
   "source": [
    "import pandas as pd\n",
    "\n",
    "# Чтение данных из файла CSV\n",
    "dataframe = pd.read_csv('data.csv')\n",
    "\n",
    "dataframe.head()\n",
    "\n",
    "dataframe.tail()"
   ]
  },
  {
   "cell_type": "markdown",
   "id": "8e33a60d-0a54-454b-a283-8a9e11a036d3",
   "metadata": {},
   "source": [
    "Если в head() и tail() не передавать нужное количество строк, по умолчанию будут выведены первые (или последние) 5 строк.\n",
    "\n",
    "Для чтения Excel файлов используют метод **read_excel():**"
   ]
  },
  {
   "cell_type": "code",
   "execution_count": 43,
   "id": "b04381cb-e3ea-4812-85df-73585ba2d6b4",
   "metadata": {
    "tags": []
   },
   "outputs": [
    {
     "data": {
      "text/html": [
       "<div>\n",
       "<style scoped>\n",
       "    .dataframe tbody tr th:only-of-type {\n",
       "        vertical-align: middle;\n",
       "    }\n",
       "\n",
       "    .dataframe tbody tr th {\n",
       "        vertical-align: top;\n",
       "    }\n",
       "\n",
       "    .dataframe thead th {\n",
       "        text-align: right;\n",
       "    }\n",
       "</style>\n",
       "<table border=\"1\" class=\"dataframe\">\n",
       "  <thead>\n",
       "    <tr style=\"text-align: right;\">\n",
       "      <th></th>\n",
       "      <th>SR.</th>\n",
       "      <th>NAME</th>\n",
       "      <th>GENDER</th>\n",
       "      <th>AGE</th>\n",
       "      <th>DATE</th>\n",
       "      <th>COUNTRY</th>\n",
       "    </tr>\n",
       "  </thead>\n",
       "  <tbody>\n",
       "    <tr>\n",
       "      <th>0</th>\n",
       "      <td>1</td>\n",
       "      <td>Dett</td>\n",
       "      <td>Male</td>\n",
       "      <td>18</td>\n",
       "      <td>21/05/2015</td>\n",
       "      <td>Great Britain</td>\n",
       "    </tr>\n",
       "    <tr>\n",
       "      <th>1</th>\n",
       "      <td>2</td>\n",
       "      <td>Nern</td>\n",
       "      <td>Female</td>\n",
       "      <td>19</td>\n",
       "      <td>15/10/2017</td>\n",
       "      <td>France</td>\n",
       "    </tr>\n",
       "    <tr>\n",
       "      <th>2</th>\n",
       "      <td>3</td>\n",
       "      <td>Kallsie</td>\n",
       "      <td>Male</td>\n",
       "      <td>20</td>\n",
       "      <td>16/08/2016</td>\n",
       "      <td>France</td>\n",
       "    </tr>\n",
       "    <tr>\n",
       "      <th>3</th>\n",
       "      <td>4</td>\n",
       "      <td>Siuau</td>\n",
       "      <td>Female</td>\n",
       "      <td>21</td>\n",
       "      <td>21/05/2015</td>\n",
       "      <td>Great Britain</td>\n",
       "    </tr>\n",
       "    <tr>\n",
       "      <th>4</th>\n",
       "      <td>5</td>\n",
       "      <td>Shennice</td>\n",
       "      <td>Male</td>\n",
       "      <td>22</td>\n",
       "      <td>21/05/2016</td>\n",
       "      <td>France</td>\n",
       "    </tr>\n",
       "    <tr>\n",
       "      <th>...</th>\n",
       "      <td>...</td>\n",
       "      <td>...</td>\n",
       "      <td>...</td>\n",
       "      <td>...</td>\n",
       "      <td>...</td>\n",
       "      <td>...</td>\n",
       "    </tr>\n",
       "    <tr>\n",
       "      <th>2716</th>\n",
       "      <td>2717</td>\n",
       "      <td>Shennice</td>\n",
       "      <td>Female</td>\n",
       "      <td>54</td>\n",
       "      <td>21/05/2024</td>\n",
       "      <td>United States</td>\n",
       "    </tr>\n",
       "    <tr>\n",
       "      <th>2717</th>\n",
       "      <td>2718</td>\n",
       "      <td>Chasse</td>\n",
       "      <td>Female</td>\n",
       "      <td>55</td>\n",
       "      <td>15/10/2026</td>\n",
       "      <td>United States</td>\n",
       "    </tr>\n",
       "    <tr>\n",
       "      <th>2718</th>\n",
       "      <td>2719</td>\n",
       "      <td>Tommye</td>\n",
       "      <td>Female</td>\n",
       "      <td>56</td>\n",
       "      <td>16/08/2025</td>\n",
       "      <td>Great Britain</td>\n",
       "    </tr>\n",
       "    <tr>\n",
       "      <th>2719</th>\n",
       "      <td>2720</td>\n",
       "      <td>Dorcast</td>\n",
       "      <td>Female</td>\n",
       "      <td>57</td>\n",
       "      <td>21/05/2024</td>\n",
       "      <td>France</td>\n",
       "    </tr>\n",
       "    <tr>\n",
       "      <th>2720</th>\n",
       "      <td>2721</td>\n",
       "      <td>Angelee</td>\n",
       "      <td>Female</td>\n",
       "      <td>58</td>\n",
       "      <td>21/05/2025</td>\n",
       "      <td>Great Britain</td>\n",
       "    </tr>\n",
       "  </tbody>\n",
       "</table>\n",
       "<p>2721 rows × 6 columns</p>\n",
       "</div>"
      ],
      "text/plain": [
       "       SR.      NAME  GENDER  AGE       DATE         COUNTRY\n",
       "0        1      Dett    Male   18  21/05/2015  Great Britain\n",
       "1        2     Nern   Female   19  15/10/2017         France\n",
       "2        3   Kallsie    Male   20  16/08/2016         France\n",
       "3        4     Siuau  Female   21  21/05/2015  Great Britain\n",
       "4        5  Shennice    Male   22  21/05/2016         France\n",
       "...    ...       ...     ...  ...         ...            ...\n",
       "2716  2717  Shennice  Female   54  21/05/2024  United States\n",
       "2717  2718    Chasse  Female   55  15/10/2026  United States\n",
       "2718  2719    Tommye  Female   56  16/08/2025  Great Britain\n",
       "2719  2720   Dorcast  Female   57  21/05/2024         France\n",
       "2720  2721   Angelee  Female   58  21/05/2025  Great Britain\n",
       "\n",
       "[2721 rows x 6 columns]"
      ]
     },
     "execution_count": 43,
     "metadata": {},
     "output_type": "execute_result"
    }
   ],
   "source": [
    "import pandas as pd\n",
    "\n",
    "# читаем Excel файл\n",
    "df = pd.read_excel('data.xlsx')\n",
    "\n",
    "# выводим DataFrame\n",
    "df.head(10000)"
   ]
  },
  {
   "cell_type": "markdown",
   "id": "39441abb-3557-459a-9f88-13b4fa0738bb",
   "metadata": {},
   "source": [
    "В read_excel() можно передать дополнительный параметр, чтобы вывести определенный лист по его названию или по индексу:"
   ]
  },
  {
   "cell_type": "code",
   "execution_count": 45,
   "id": "1f7e4bd8-5627-4614-a8af-1f9556fac8c3",
   "metadata": {
    "tags": []
   },
   "outputs": [
    {
     "data": {
      "text/html": [
       "<div>\n",
       "<style scoped>\n",
       "    .dataframe tbody tr th:only-of-type {\n",
       "        vertical-align: middle;\n",
       "    }\n",
       "\n",
       "    .dataframe tbody tr th {\n",
       "        vertical-align: top;\n",
       "    }\n",
       "\n",
       "    .dataframe thead th {\n",
       "        text-align: right;\n",
       "    }\n",
       "</style>\n",
       "<table border=\"1\" class=\"dataframe\">\n",
       "  <thead>\n",
       "    <tr style=\"text-align: right;\">\n",
       "      <th></th>\n",
       "      <th>SR.</th>\n",
       "      <th>NAME</th>\n",
       "      <th>GENDER</th>\n",
       "      <th>AGE</th>\n",
       "      <th>DATE</th>\n",
       "      <th>COUNTRY</th>\n",
       "    </tr>\n",
       "  </thead>\n",
       "  <tbody>\n",
       "    <tr>\n",
       "      <th>0</th>\n",
       "      <td>1</td>\n",
       "      <td>Dett</td>\n",
       "      <td>Male</td>\n",
       "      <td>18</td>\n",
       "      <td>21/05/2015</td>\n",
       "      <td>Great Britain</td>\n",
       "    </tr>\n",
       "    <tr>\n",
       "      <th>1</th>\n",
       "      <td>2</td>\n",
       "      <td>Nern</td>\n",
       "      <td>Female</td>\n",
       "      <td>19</td>\n",
       "      <td>15/10/2017</td>\n",
       "      <td>France</td>\n",
       "    </tr>\n",
       "    <tr>\n",
       "      <th>2</th>\n",
       "      <td>3</td>\n",
       "      <td>Kallsie</td>\n",
       "      <td>Male</td>\n",
       "      <td>20</td>\n",
       "      <td>16/08/2016</td>\n",
       "      <td>France</td>\n",
       "    </tr>\n",
       "    <tr>\n",
       "      <th>3</th>\n",
       "      <td>4</td>\n",
       "      <td>Siuau</td>\n",
       "      <td>Female</td>\n",
       "      <td>21</td>\n",
       "      <td>21/05/2015</td>\n",
       "      <td>Great Britain</td>\n",
       "    </tr>\n",
       "    <tr>\n",
       "      <th>4</th>\n",
       "      <td>5</td>\n",
       "      <td>Shennice</td>\n",
       "      <td>Male</td>\n",
       "      <td>22</td>\n",
       "      <td>21/05/2016</td>\n",
       "      <td>France</td>\n",
       "    </tr>\n",
       "  </tbody>\n",
       "</table>\n",
       "</div>"
      ],
      "text/plain": [
       "   SR.      NAME  GENDER  AGE       DATE         COUNTRY\n",
       "0    1      Dett    Male   18  21/05/2015  Great Britain\n",
       "1    2     Nern   Female   19  15/10/2017         France\n",
       "2    3   Kallsie    Male   20  16/08/2016         France\n",
       "3    4     Siuau  Female   21  21/05/2015  Great Britain\n",
       "4    5  Shennice    Male   22  21/05/2016         France"
      ]
     },
     "execution_count": 45,
     "metadata": {},
     "output_type": "execute_result"
    }
   ],
   "source": [
    "df = pd.read_excel('data.xlsx', sheet_name='Лист1') # по названию\n",
    "dp = pd.read_excel('data.xlsx', sheet_name=0) # по индексу\n",
    "\n",
    "df.head()\n",
    "\n",
    "dp.head()"
   ]
  },
  {
   "cell_type": "markdown",
   "id": "9bae225d-9417-4955-baeb-c3bff13f921e",
   "metadata": {},
   "source": [
    "Можно прочитать листы выборочно:"
   ]
  },
  {
   "cell_type": "code",
   "execution_count": 47,
   "id": "5f012c3a-b6e0-45ce-8f6f-283577d8fd1f",
   "metadata": {
    "tags": []
   },
   "outputs": [
    {
     "data": {
      "text/html": [
       "<div>\n",
       "<style scoped>\n",
       "    .dataframe tbody tr th:only-of-type {\n",
       "        vertical-align: middle;\n",
       "    }\n",
       "\n",
       "    .dataframe tbody tr th {\n",
       "        vertical-align: top;\n",
       "    }\n",
       "\n",
       "    .dataframe thead th {\n",
       "        text-align: right;\n",
       "    }\n",
       "</style>\n",
       "<table border=\"1\" class=\"dataframe\">\n",
       "  <thead>\n",
       "    <tr style=\"text-align: right;\">\n",
       "      <th></th>\n",
       "      <th>Head1</th>\n",
       "      <th>Head2</th>\n",
       "    </tr>\n",
       "  </thead>\n",
       "  <tbody>\n",
       "    <tr>\n",
       "      <th>0</th>\n",
       "      <td>1</td>\n",
       "      <td>2</td>\n",
       "    </tr>\n",
       "    <tr>\n",
       "      <th>1</th>\n",
       "      <td>3</td>\n",
       "      <td>4</td>\n",
       "    </tr>\n",
       "  </tbody>\n",
       "</table>\n",
       "</div>"
      ],
      "text/plain": [
       "   Head1  Head2\n",
       "0      1      2\n",
       "1      3      4"
      ]
     },
     "execution_count": 47,
     "metadata": {},
     "output_type": "execute_result"
    }
   ],
   "source": [
    "sheets = ['Sheet1', 'Лист1']\n",
    "df_dict = pd.read_excel('data.xlsx', sheet_name=sheets)\n",
    "\n",
    "# доступ к объектам DataFrame по именам \n",
    "df1 = df_dict['Sheet1']\n",
    "df2 = df_dict['Лист1']\n",
    "\n",
    "df2.head()"
   ]
  },
  {
   "cell_type": "markdown",
   "id": "d60da6af-86c0-4072-9070-825688409032",
   "metadata": {},
   "source": [
    "А так можно пропустить нужное количество строк:"
   ]
  },
  {
   "cell_type": "code",
   "execution_count": 43,
   "id": "e65316dd-fd67-4cbd-977b-9f34bbe9a255",
   "metadata": {
    "tags": []
   },
   "outputs": [
    {
     "data": {
      "text/html": [
       "<div>\n",
       "<style scoped>\n",
       "    .dataframe tbody tr th:only-of-type {\n",
       "        vertical-align: middle;\n",
       "    }\n",
       "\n",
       "    .dataframe tbody tr th {\n",
       "        vertical-align: top;\n",
       "    }\n",
       "\n",
       "    .dataframe thead th {\n",
       "        text-align: right;\n",
       "    }\n",
       "</style>\n",
       "<table border=\"1\" class=\"dataframe\">\n",
       "  <thead>\n",
       "    <tr style=\"text-align: right;\">\n",
       "      <th></th>\n",
       "      <th>2</th>\n",
       "      <th>Nern</th>\n",
       "      <th>Female</th>\n",
       "      <th>19</th>\n",
       "      <th>15/10/2017</th>\n",
       "      <th>France</th>\n",
       "    </tr>\n",
       "  </thead>\n",
       "  <tbody>\n",
       "    <tr>\n",
       "      <th>0</th>\n",
       "      <td>3</td>\n",
       "      <td>Kallsie</td>\n",
       "      <td>Male</td>\n",
       "      <td>20</td>\n",
       "      <td>16/08/2016</td>\n",
       "      <td>France</td>\n",
       "    </tr>\n",
       "    <tr>\n",
       "      <th>1</th>\n",
       "      <td>4</td>\n",
       "      <td>Siuau</td>\n",
       "      <td>Female</td>\n",
       "      <td>21</td>\n",
       "      <td>21/05/2015</td>\n",
       "      <td>Great Britain</td>\n",
       "    </tr>\n",
       "    <tr>\n",
       "      <th>2</th>\n",
       "      <td>5</td>\n",
       "      <td>Shennice</td>\n",
       "      <td>Male</td>\n",
       "      <td>22</td>\n",
       "      <td>21/05/2016</td>\n",
       "      <td>France</td>\n",
       "    </tr>\n",
       "    <tr>\n",
       "      <th>3</th>\n",
       "      <td>6</td>\n",
       "      <td>Chasse</td>\n",
       "      <td>Female</td>\n",
       "      <td>23</td>\n",
       "      <td>15/10/2018</td>\n",
       "      <td>France</td>\n",
       "    </tr>\n",
       "    <tr>\n",
       "      <th>4</th>\n",
       "      <td>7</td>\n",
       "      <td>Tommye</td>\n",
       "      <td>Male</td>\n",
       "      <td>24</td>\n",
       "      <td>16/08/2017</td>\n",
       "      <td>United States</td>\n",
       "    </tr>\n",
       "  </tbody>\n",
       "</table>\n",
       "</div>"
      ],
      "text/plain": [
       "   2     Nern   Female  19  15/10/2017         France\n",
       "0  3   Kallsie    Male  20  16/08/2016         France\n",
       "1  4     Siuau  Female  21  21/05/2015  Great Britain\n",
       "2  5  Shennice    Male  22  21/05/2016         France\n",
       "3  6    Chasse  Female  23  15/10/2018         France\n",
       "4  7    Tommye    Male  24  16/08/2017  United States"
      ]
     },
     "execution_count": 43,
     "metadata": {},
     "output_type": "execute_result"
    }
   ],
   "source": [
    "df = pd.read_excel('data.xlsx', skiprows=2)  # пропускаем первые 2 строки\n",
    "\n",
    "df.head()"
   ]
  },
  {
   "cell_type": "markdown",
   "id": "bd3ec0a6-6292-46f0-9143-79125ba595f0",
   "metadata": {
    "tags": []
   },
   "source": [
    "### Запись данных в CSV и XLSX файлы"
   ]
  },
  {
   "cell_type": "markdown",
   "id": "1d9ee008-16bc-4b47-9d90-86fc83af23b2",
   "metadata": {},
   "source": [
    "Метод **to_csv()** сохраняет DataFrame в csv файле, причем индексы можно не записывать:"
   ]
  },
  {
   "cell_type": "code",
   "execution_count": 50,
   "id": "e18ad01f-caca-406a-8077-0c7ef366bebe",
   "metadata": {
    "tags": []
   },
   "outputs": [],
   "source": [
    "import pandas as pd\n",
    "\n",
    "# создание DataFrame\n",
    "dataframe = pd.DataFrame({'M': [100, 120, 130], 'L': [140, 150, 165]})\n",
    "\n",
    "dataframe.head()\n",
    "\n",
    "# запись данных в файл CSV\n",
    "dataframe.to_csv('output.csv', index=False)"
   ]
  },
  {
   "cell_type": "markdown",
   "id": "6f0b9e5c-944b-4b03-9e61-8915683fc235",
   "metadata": {
    "tags": []
   },
   "source": [
    "Запись данных в файл Excel выполняют с помощью функции **to_excel():**"
   ]
  },
  {
   "cell_type": "code",
   "execution_count": 53,
   "id": "29c21a91-a110-4487-985f-a866b3337ec3",
   "metadata": {
    "tags": []
   },
   "outputs": [],
   "source": [
    "import pandas as pd\n",
    "\n",
    "# создание DataFrame\n",
    "dataframe = pd.DataFrame({'Москва': [10000000, 250000, 300], 'Самара': [4000000, 150, 600]})\n",
    "\n",
    "# запись данных в файл Excel\n",
    "dataframe.to_excel('output.xlsx', index=False)"
   ]
  },
  {
   "cell_type": "markdown",
   "id": "5e9a9948-1257-4240-86e2-d7de9f17b461",
   "metadata": {},
   "source": [
    "#### Индексация и доступ к данным"
   ]
  },
  {
   "cell_type": "markdown",
   "id": "5bf76d5b-47d6-4e21-beb0-31a685977237",
   "metadata": {},
   "source": [
    "Метод **loc[]** обеспечивает доступ к данным по метке индекса или столбца:"
   ]
  },
  {
   "cell_type": "code",
   "execution_count": 57,
   "id": "74a96cac-fa55-4cd7-80d6-0848c8e4a835",
   "metadata": {
    "tags": []
   },
   "outputs": [
    {
     "data": {
      "text/html": [
       "<div>\n",
       "<style scoped>\n",
       "    .dataframe tbody tr th:only-of-type {\n",
       "        vertical-align: middle;\n",
       "    }\n",
       "\n",
       "    .dataframe tbody tr th {\n",
       "        vertical-align: top;\n",
       "    }\n",
       "\n",
       "    .dataframe thead th {\n",
       "        text-align: right;\n",
       "    }\n",
       "</style>\n",
       "<table border=\"1\" class=\"dataframe\">\n",
       "  <thead>\n",
       "    <tr style=\"text-align: right;\">\n",
       "      <th></th>\n",
       "      <th>Велосипеды</th>\n",
       "      <th>Самокаты</th>\n",
       "    </tr>\n",
       "  </thead>\n",
       "  <tbody>\n",
       "    <tr>\n",
       "      <th>0</th>\n",
       "      <td>100</td>\n",
       "      <td>240</td>\n",
       "    </tr>\n",
       "    <tr>\n",
       "      <th>1</th>\n",
       "      <td>200</td>\n",
       "      <td>500</td>\n",
       "    </tr>\n",
       "    <tr>\n",
       "      <th>2</th>\n",
       "      <td>350</td>\n",
       "      <td>650</td>\n",
       "    </tr>\n",
       "  </tbody>\n",
       "</table>\n",
       "</div>"
      ],
      "text/plain": [
       "   Велосипеды  Самокаты\n",
       "0         100       240\n",
       "1         200       500\n",
       "2         350       650"
      ]
     },
     "execution_count": 57,
     "metadata": {},
     "output_type": "execute_result"
    }
   ],
   "source": [
    "import pandas as pd\n",
    "\n",
    "# создаем DataFrame\n",
    "dataframe = pd.DataFrame({'Велосипеды': [100, 200, 350], 'Самокаты': [240, 500, 650]})\n",
    "\n",
    "dataframe.head()\n"
   ]
  },
  {
   "cell_type": "code",
   "execution_count": 60,
   "id": "89a106f9-3ee9-4767-bd4c-43df3987818b",
   "metadata": {
    "tags": []
   },
   "outputs": [
    {
     "name": "stdout",
     "output_type": "stream",
     "text": [
      "0    240\n",
      "1    500\n",
      "2    650\n",
      "Name: Самокаты, dtype: int64\n"
     ]
    }
   ],
   "source": [
    "#print(dataframe.loc[0, 'Велосипеды'])  # выводим значение в первой строке и столбце 'Велосипеды'\n",
    "#print(dataframe.loc[1])  # выводим вторую строку целиком\n",
    "print(dataframe.loc[:, 'Самокаты'])  # выводим столбец 'Самокаты' целиком"
   ]
  },
  {
   "cell_type": "markdown",
   "id": "a8e0bd4f-59cb-4985-8844-90094ac6d46c",
   "metadata": {},
   "source": [
    "Метод **iloc[]** предоставляет доступ к данным по числовому индексу или позиции:"
   ]
  },
  {
   "cell_type": "code",
   "execution_count": 62,
   "id": "60c7ede9-29ff-48c6-b9a5-905cd0c61523",
   "metadata": {
    "tags": []
   },
   "outputs": [
    {
     "name": "stdout",
     "output_type": "stream",
     "text": [
      "145\n",
      "Кошки     500\n",
      "Собаки    255\n",
      "Name: 1, dtype: int64\n",
      "0    145\n",
      "1    255\n",
      "2    350\n",
      "Name: Собаки, dtype: int64\n"
     ]
    }
   ],
   "source": [
    "import pandas as pd\n",
    "\n",
    "# создаем DataFrame\n",
    "dataframe = pd.DataFrame({'Кошки': [400, 500, 600], 'Собаки': [145, 255, 350]})\n",
    "\n",
    "dataframe.head()\n",
    "\n",
    "\n",
    "print(dataframe.iloc[0, 1])  # выводим значение в первой строке и втором столбце\n",
    "print(dataframe.iloc[1])  # выводим вторую строку целиком\n",
    "print(dataframe.iloc[:, 1])  # выводим второй столбец целиком"
   ]
  },
  {
   "cell_type": "markdown",
   "id": "b505337b-e640-4b6d-a740-3d099dce61e9",
   "metadata": {},
   "source": [
    "Метод **at[]** обеспечивает доступ к одному элементу по метке индекса и столбца:"
   ]
  },
  {
   "cell_type": "code",
   "execution_count": 63,
   "id": "205242aa-4bdc-47b4-be33-cb764813080e",
   "metadata": {
    "tags": []
   },
   "outputs": [
    {
     "name": "stdout",
     "output_type": "stream",
     "text": [
      "150\n"
     ]
    }
   ],
   "source": [
    "import pandas as pd\n",
    "\n",
    "dataframe = pd.DataFrame({'Фрукты': [150, 250, 350], 'Овощи': [420, 520, 625]})\n",
    "print(dataframe.at[0, 'Фрукты'])  # выводим значение в первой строке и столбце 'Фрукты'"
   ]
  },
  {
   "cell_type": "markdown",
   "id": "c1c0448c-ef43-4c6e-9fb6-02ef99644306",
   "metadata": {
    "tags": []
   },
   "source": [
    "Метод **iat[]** предоставляет доступ к одному элементу по числовому индексу и позиции:"
   ]
  },
  {
   "cell_type": "code",
   "execution_count": 57,
   "id": "fb5e033f-d5fa-41d1-81ef-e1bd89221abf",
   "metadata": {
    "tags": []
   },
   "outputs": [
    {
     "name": "stdout",
     "output_type": "stream",
     "text": [
      "70000\n"
     ]
    }
   ],
   "source": [
    "import pandas as pd\n",
    "\n",
    "dataframe = pd.DataFrame({'Возраст': [22, 25, 27], 'Зарплата': [70000, 90000, 12000]})\n",
    "print(dataframe.iat[0, 1])  # выводим значение в первой строке и втором столбце"
   ]
  },
  {
   "cell_type": "markdown",
   "id": "ce6e9a0b-cb8f-436d-9fc3-b49d04715b55",
   "metadata": {},
   "source": [
    "## Манипуляции с данными"
   ]
  },
  {
   "cell_type": "markdown",
   "id": "039a424c-dee6-4ef6-823b-142bab2fa3cc",
   "metadata": {},
   "source": [
    "**shape()** возвращает размеры DataFrame:"
   ]
  },
  {
   "cell_type": "code",
   "execution_count": 69,
   "id": "dff65c68-c054-43d2-8469-4874869ac9cf",
   "metadata": {
    "tags": []
   },
   "outputs": [
    {
     "name": "stdout",
     "output_type": "stream",
     "text": [
      "(3, 3)\n"
     ]
    }
   ],
   "source": [
    "import pandas as pd\n",
    "\n",
    "dataframe = pd.DataFrame({'Завтрак': [100, 20, 35], 'Обед': [40, 50, 65], 'Ужин': [20, 150, 75]})\n",
    "\n",
    "#dataframe.head()\n",
    "\n",
    "# получаем размеры DataFrame с помощью shape\n",
    "print(dataframe.shape) "
   ]
  },
  {
   "cell_type": "markdown",
   "id": "38a4bb42-3ce0-4dc0-bd0a-019a76e36d6e",
   "metadata": {},
   "source": [
    "**drop()** позволяет удалять столбцы и строки. Так удаляют столбцы:"
   ]
  },
  {
   "cell_type": "code",
   "execution_count": 73,
   "id": "72155219-0221-4515-ad1e-711d257c0a59",
   "metadata": {
    "tags": []
   },
   "outputs": [
    {
     "data": {
      "text/html": [
       "<div>\n",
       "<style scoped>\n",
       "    .dataframe tbody tr th:only-of-type {\n",
       "        vertical-align: middle;\n",
       "    }\n",
       "\n",
       "    .dataframe tbody tr th {\n",
       "        vertical-align: top;\n",
       "    }\n",
       "\n",
       "    .dataframe thead th {\n",
       "        text-align: right;\n",
       "    }\n",
       "</style>\n",
       "<table border=\"1\" class=\"dataframe\">\n",
       "  <thead>\n",
       "    <tr style=\"text-align: right;\">\n",
       "      <th></th>\n",
       "      <th>Б</th>\n",
       "    </tr>\n",
       "  </thead>\n",
       "  <tbody>\n",
       "    <tr>\n",
       "      <th>0</th>\n",
       "      <td>4</td>\n",
       "    </tr>\n",
       "    <tr>\n",
       "      <th>1</th>\n",
       "      <td>5</td>\n",
       "    </tr>\n",
       "    <tr>\n",
       "      <th>2</th>\n",
       "      <td>6</td>\n",
       "    </tr>\n",
       "  </tbody>\n",
       "</table>\n",
       "</div>"
      ],
      "text/plain": [
       "   Б\n",
       "0  4\n",
       "1  5\n",
       "2  6"
      ]
     },
     "execution_count": 73,
     "metadata": {},
     "output_type": "execute_result"
    }
   ],
   "source": [
    "import pandas as pd\n",
    "\n",
    "# создаем DataFrame\n",
    "dataframe = pd.DataFrame({'А': [1, 2, 3], 'Б': [4, 5, 6], 'В': [4, 5, 6]})\n",
    "\n",
    "dataframe.head()\n",
    "\n",
    "# удаляем столбцы 'A' и 'B' \n",
    "dataframe_dropped = dataframe.drop(['А', 'В'], axis=1)\n",
    "\n",
    "dataframe_dropped.head()"
   ]
  },
  {
   "cell_type": "markdown",
   "id": "2d2d7bb1-7615-437a-bc81-4c8064586715",
   "metadata": {},
   "source": [
    "А так можно удалить строки:"
   ]
  },
  {
   "cell_type": "code",
   "execution_count": 75,
   "id": "f0228ce8-5bbb-4fe0-ba15-2ae461151dd6",
   "metadata": {
    "tags": []
   },
   "outputs": [
    {
     "data": {
      "text/html": [
       "<div>\n",
       "<style scoped>\n",
       "    .dataframe tbody tr th:only-of-type {\n",
       "        vertical-align: middle;\n",
       "    }\n",
       "\n",
       "    .dataframe tbody tr th {\n",
       "        vertical-align: top;\n",
       "    }\n",
       "\n",
       "    .dataframe thead th {\n",
       "        text-align: right;\n",
       "    }\n",
       "</style>\n",
       "<table border=\"1\" class=\"dataframe\">\n",
       "  <thead>\n",
       "    <tr style=\"text-align: right;\">\n",
       "      <th></th>\n",
       "      <th>А</th>\n",
       "      <th>Б</th>\n",
       "      <th>В</th>\n",
       "      <th>Г</th>\n",
       "    </tr>\n",
       "  </thead>\n",
       "  <tbody>\n",
       "    <tr>\n",
       "      <th>2</th>\n",
       "      <td>30</td>\n",
       "      <td>65</td>\n",
       "      <td>96</td>\n",
       "      <td>66</td>\n",
       "    </tr>\n",
       "  </tbody>\n",
       "</table>\n",
       "</div>"
      ],
      "text/plain": [
       "    А   Б   В   Г\n",
       "2  30  65  96  66"
      ]
     },
     "execution_count": 75,
     "metadata": {},
     "output_type": "execute_result"
    }
   ],
   "source": [
    "import pandas as pd\n",
    "\n",
    "dataframe = pd.DataFrame({'А': [10, 20, 30], 'Б': [45, 55, 65], 'В': [74, 85, 96], 'Г': [94, 35, 66]})\n",
    "\n",
    "dataframe.head()\n",
    "\n",
    "# удаляем строки 0 и 1\n",
    "dataframe_dropped = dataframe.drop([0, 1], axis=0)\n",
    "\n",
    "dataframe_dropped.head()"
   ]
  },
  {
   "cell_type": "markdown",
   "id": "95c8261b-c912-4bb6-af5e-7e808db82eba",
   "metadata": {},
   "source": [
    "**rename()** позволяет переименовать столбцы DataFrame:"
   ]
  },
  {
   "cell_type": "code",
   "execution_count": 77,
   "id": "ccdba4e7-5204-4155-91d5-2018a9da06c0",
   "metadata": {
    "tags": []
   },
   "outputs": [
    {
     "data": {
      "text/html": [
       "<div>\n",
       "<style scoped>\n",
       "    .dataframe tbody tr th:only-of-type {\n",
       "        vertical-align: middle;\n",
       "    }\n",
       "\n",
       "    .dataframe tbody tr th {\n",
       "        vertical-align: top;\n",
       "    }\n",
       "\n",
       "    .dataframe thead th {\n",
       "        text-align: right;\n",
       "    }\n",
       "</style>\n",
       "<table border=\"1\" class=\"dataframe\">\n",
       "  <thead>\n",
       "    <tr style=\"text-align: right;\">\n",
       "      <th></th>\n",
       "      <th>Столбец_1</th>\n",
       "      <th>Столбец_2</th>\n",
       "    </tr>\n",
       "  </thead>\n",
       "  <tbody>\n",
       "    <tr>\n",
       "      <th>0</th>\n",
       "      <td>1</td>\n",
       "      <td>4</td>\n",
       "    </tr>\n",
       "    <tr>\n",
       "      <th>1</th>\n",
       "      <td>2</td>\n",
       "      <td>5</td>\n",
       "    </tr>\n",
       "    <tr>\n",
       "      <th>2</th>\n",
       "      <td>3</td>\n",
       "      <td>6</td>\n",
       "    </tr>\n",
       "  </tbody>\n",
       "</table>\n",
       "</div>"
      ],
      "text/plain": [
       "   Столбец_1  Столбец_2\n",
       "0          1          4\n",
       "1          2          5\n",
       "2          3          6"
      ]
     },
     "execution_count": 77,
     "metadata": {},
     "output_type": "execute_result"
    }
   ],
   "source": [
    "import pandas as pd\n",
    "\n",
    "dataframe = pd.DataFrame({'A': [1, 2, 3], 'B': [4, 5, 6]})\n",
    "\n",
    "dataframe.head()\n",
    "\n",
    "# переименование столбцов 'A' и 'B' \n",
    "dataframe_renamed = dataframe.rename(columns={'A': 'Столбец_1', 'B': 'Столбец_2'})\n",
    "\n",
    "dataframe_renamed.head()\n"
   ]
  },
  {
   "cell_type": "markdown",
   "id": "f466196e-6e36-4842-84c3-33ceae575c4e",
   "metadata": {},
   "source": [
    "**sort_values()** выполняет сортировку:"
   ]
  },
  {
   "cell_type": "code",
   "execution_count": 79,
   "id": "63be41a9-dd4e-445d-9a5f-ebcb59041f23",
   "metadata": {
    "tags": []
   },
   "outputs": [
    {
     "data": {
      "text/html": [
       "<div>\n",
       "<style scoped>\n",
       "    .dataframe tbody tr th:only-of-type {\n",
       "        vertical-align: middle;\n",
       "    }\n",
       "\n",
       "    .dataframe tbody tr th {\n",
       "        vertical-align: top;\n",
       "    }\n",
       "\n",
       "    .dataframe thead th {\n",
       "        text-align: right;\n",
       "    }\n",
       "</style>\n",
       "<table border=\"1\" class=\"dataframe\">\n",
       "  <thead>\n",
       "    <tr style=\"text-align: right;\">\n",
       "      <th></th>\n",
       "      <th>А</th>\n",
       "      <th>Б</th>\n",
       "      <th>В</th>\n",
       "    </tr>\n",
       "  </thead>\n",
       "  <tbody>\n",
       "    <tr>\n",
       "      <th>2</th>\n",
       "      <td>1</td>\n",
       "      <td>4</td>\n",
       "      <td>7</td>\n",
       "    </tr>\n",
       "    <tr>\n",
       "      <th>1</th>\n",
       "      <td>2</td>\n",
       "      <td>5</td>\n",
       "      <td>8</td>\n",
       "    </tr>\n",
       "    <tr>\n",
       "      <th>0</th>\n",
       "      <td>3</td>\n",
       "      <td>6</td>\n",
       "      <td>9</td>\n",
       "    </tr>\n",
       "  </tbody>\n",
       "</table>\n",
       "</div>"
      ],
      "text/plain": [
       "   А  Б  В\n",
       "2  1  4  7\n",
       "1  2  5  8\n",
       "0  3  6  9"
      ]
     },
     "execution_count": 79,
     "metadata": {},
     "output_type": "execute_result"
    }
   ],
   "source": [
    "import pandas as pd\n",
    "\n",
    "dataframe = pd.DataFrame({'А': [3, 2, 1], 'Б': [6, 5, 4], 'В': [9, 8, 7]})\n",
    "\n",
    "dataframe.head()\n",
    "\n",
    "# сортируем данные по столбцу 'A' \n",
    "dataframe_sorted = dataframe.sort_values(by='А')\n",
    "dataframe_sorted.head()\n",
    "\n"
   ]
  },
  {
   "cell_type": "markdown",
   "id": "b87af673-1832-4a1d-b083-759a38856702",
   "metadata": {},
   "source": [
    "**isnull()** – возвращает True, если обнаруживает пропуск значения:"
   ]
  },
  {
   "cell_type": "code",
   "execution_count": 80,
   "id": "9a1e78f8-b054-4e6a-b4cb-8e5f3eb3072c",
   "metadata": {
    "tags": []
   },
   "outputs": [
    {
     "data": {
      "text/html": [
       "<div>\n",
       "<style scoped>\n",
       "    .dataframe tbody tr th:only-of-type {\n",
       "        vertical-align: middle;\n",
       "    }\n",
       "\n",
       "    .dataframe tbody tr th {\n",
       "        vertical-align: top;\n",
       "    }\n",
       "\n",
       "    .dataframe thead th {\n",
       "        text-align: right;\n",
       "    }\n",
       "</style>\n",
       "<table border=\"1\" class=\"dataframe\">\n",
       "  <thead>\n",
       "    <tr style=\"text-align: right;\">\n",
       "      <th></th>\n",
       "      <th>Углеводы</th>\n",
       "      <th>Жиры</th>\n",
       "      <th>Белки</th>\n",
       "    </tr>\n",
       "  </thead>\n",
       "  <tbody>\n",
       "    <tr>\n",
       "      <th>0</th>\n",
       "      <td>False</td>\n",
       "      <td>False</td>\n",
       "      <td>False</td>\n",
       "    </tr>\n",
       "    <tr>\n",
       "      <th>1</th>\n",
       "      <td>False</td>\n",
       "      <td>True</td>\n",
       "      <td>False</td>\n",
       "    </tr>\n",
       "    <tr>\n",
       "      <th>2</th>\n",
       "      <td>True</td>\n",
       "      <td>False</td>\n",
       "      <td>False</td>\n",
       "    </tr>\n",
       "    <tr>\n",
       "      <th>3</th>\n",
       "      <td>False</td>\n",
       "      <td>False</td>\n",
       "      <td>True</td>\n",
       "    </tr>\n",
       "  </tbody>\n",
       "</table>\n",
       "</div>"
      ],
      "text/plain": [
       "   Углеводы   Жиры  Белки\n",
       "0     False  False  False\n",
       "1     False   True  False\n",
       "2      True  False  False\n",
       "3     False  False   True"
      ]
     },
     "execution_count": 80,
     "metadata": {},
     "output_type": "execute_result"
    }
   ],
   "source": [
    "import pandas as pd\n",
    "\n",
    "dataframe = pd.DataFrame({'Углеводы': [43, 27, None, 49],\n",
    "                          'Жиры': [50, None, 17, 8],\n",
    "                          'Белки': [25, 5, 11, None]})\n",
    "\n",
    "# ищем пропущенные значения \n",
    "missing_values = dataframe.isnull()\n",
    "\n",
    "missing_values.head()"
   ]
  },
  {
   "cell_type": "markdown",
   "id": "1e2863dd-8e02-4751-b1b9-cb77aaf3d201",
   "metadata": {},
   "source": [
    "**fillna()** – заполняет пропущенные значения нужными показателями:"
   ]
  },
  {
   "cell_type": "code",
   "execution_count": 83,
   "id": "af30f581-3770-4dfe-8bea-898940219845",
   "metadata": {
    "tags": []
   },
   "outputs": [
    {
     "data": {
      "text/html": [
       "<div>\n",
       "<style scoped>\n",
       "    .dataframe tbody tr th:only-of-type {\n",
       "        vertical-align: middle;\n",
       "    }\n",
       "\n",
       "    .dataframe tbody tr th {\n",
       "        vertical-align: top;\n",
       "    }\n",
       "\n",
       "    .dataframe thead th {\n",
       "        text-align: right;\n",
       "    }\n",
       "</style>\n",
       "<table border=\"1\" class=\"dataframe\">\n",
       "  <thead>\n",
       "    <tr style=\"text-align: right;\">\n",
       "      <th></th>\n",
       "      <th>Выручка</th>\n",
       "      <th>Убытки</th>\n",
       "      <th>Накладные расходы</th>\n",
       "    </tr>\n",
       "  </thead>\n",
       "  <tbody>\n",
       "    <tr>\n",
       "      <th>0</th>\n",
       "      <td>105600.0</td>\n",
       "      <td>5034.0</td>\n",
       "      <td>15000.0</td>\n",
       "    </tr>\n",
       "    <tr>\n",
       "      <th>1</th>\n",
       "      <td>209800.0</td>\n",
       "      <td>0.0</td>\n",
       "      <td>0.0</td>\n",
       "    </tr>\n",
       "    <tr>\n",
       "      <th>2</th>\n",
       "      <td>0.0</td>\n",
       "      <td>17093.0</td>\n",
       "      <td>17000.0</td>\n",
       "    </tr>\n",
       "    <tr>\n",
       "      <th>3</th>\n",
       "      <td>403450.0</td>\n",
       "      <td>80666.0</td>\n",
       "      <td>18000.0</td>\n",
       "    </tr>\n",
       "  </tbody>\n",
       "</table>\n",
       "</div>"
      ],
      "text/plain": [
       "    Выручка   Убытки  Накладные расходы\n",
       "0  105600.0   5034.0            15000.0\n",
       "1  209800.0      0.0                0.0\n",
       "2       0.0  17093.0            17000.0\n",
       "3  403450.0  80666.0            18000.0"
      ]
     },
     "execution_count": 83,
     "metadata": {},
     "output_type": "execute_result"
    }
   ],
   "source": [
    "import pandas as pd\n",
    "\n",
    "dataframe = pd.DataFrame({'Выручка': [105600, 209800, None, 403450],\n",
    "                          'Убытки': [5034, None, 17093, 80666],\n",
    "                          'Накладные расходы': [15000, None, 17000, 18000]})\n",
    "\n",
    "dataframe.head()\n",
    "\n",
    "# заполняем пропущенные значения нулями\n",
    "filled_dataframe = dataframe.fillna(0)\n",
    "\n",
    "filled_dataframe.head()"
   ]
  },
  {
   "cell_type": "markdown",
   "id": "fd8794a5-53f8-4d4c-845a-ae7eded36e1c",
   "metadata": {},
   "source": [
    "**merge()** – объединяет DataFrame на основе общих столбцов:"
   ]
  },
  {
   "cell_type": "code",
   "execution_count": 86,
   "id": "72fdeb48-b47d-4c8e-a1fa-fcfeb7dae073",
   "metadata": {
    "tags": []
   },
   "outputs": [
    {
     "data": {
      "text/html": [
       "<div>\n",
       "<style scoped>\n",
       "    .dataframe tbody tr th:only-of-type {\n",
       "        vertical-align: middle;\n",
       "    }\n",
       "\n",
       "    .dataframe tbody tr th {\n",
       "        vertical-align: top;\n",
       "    }\n",
       "\n",
       "    .dataframe thead th {\n",
       "        text-align: right;\n",
       "    }\n",
       "</style>\n",
       "<table border=\"1\" class=\"dataframe\">\n",
       "  <thead>\n",
       "    <tr style=\"text-align: right;\">\n",
       "      <th></th>\n",
       "      <th>A</th>\n",
       "      <th>B</th>\n",
       "      <th>C</th>\n",
       "    </tr>\n",
       "  </thead>\n",
       "  <tbody>\n",
       "    <tr>\n",
       "      <th>0</th>\n",
       "      <td>10</td>\n",
       "      <td>XL</td>\n",
       "      <td>52</td>\n",
       "    </tr>\n",
       "    <tr>\n",
       "      <th>1</th>\n",
       "      <td>20</td>\n",
       "      <td>L</td>\n",
       "      <td>48</td>\n",
       "    </tr>\n",
       "    <tr>\n",
       "      <th>2</th>\n",
       "      <td>30</td>\n",
       "      <td>M</td>\n",
       "      <td>46</td>\n",
       "    </tr>\n",
       "    <tr>\n",
       "      <th>3</th>\n",
       "      <td>40</td>\n",
       "      <td>S</td>\n",
       "      <td>42</td>\n",
       "    </tr>\n",
       "  </tbody>\n",
       "</table>\n",
       "</div>"
      ],
      "text/plain": [
       "    A   B   C\n",
       "0  10  XL  52\n",
       "1  20   L  48\n",
       "2  30   M  46\n",
       "3  40   S  42"
      ]
     },
     "execution_count": 86,
     "metadata": {},
     "output_type": "execute_result"
    }
   ],
   "source": [
    "import pandas as pd\n",
    "\n",
    "dataframe1 = pd.DataFrame({'A': [10, 20, 30, 40],\n",
    "                           'B': ['XL', 'L', 'M', 'S']})\n",
    "\n",
    "dataframe2 = pd.DataFrame({'A': [10, 20, 30, 40],\n",
    "                           'C': ['52', '48', '46', '42']})\n",
    "\n",
    "# объединяем 2 объекта DataFrame на основе столбца 'A'\n",
    "merged_dataframe = pd.merge(dataframe1, dataframe2, on='A')\n",
    "\n",
    "merged_dataframe.head()\n"
   ]
  },
  {
   "cell_type": "markdown",
   "id": "bd8657a5-c2c2-4ee5-8624-ca3202f70753",
   "metadata": {
    "tags": []
   },
   "source": [
    "**apply()** – применяет функцию к каждому элементу (строке, столбцу):"
   ]
  },
  {
   "cell_type": "code",
   "execution_count": 87,
   "id": "718bcd92-e8a8-4cb6-a4cd-5af092d59bea",
   "metadata": {
    "tags": []
   },
   "outputs": [
    {
     "data": {
      "text/html": [
       "<div>\n",
       "<style scoped>\n",
       "    .dataframe tbody tr th:only-of-type {\n",
       "        vertical-align: middle;\n",
       "    }\n",
       "\n",
       "    .dataframe tbody tr th {\n",
       "        vertical-align: top;\n",
       "    }\n",
       "\n",
       "    .dataframe thead th {\n",
       "        text-align: right;\n",
       "    }\n",
       "</style>\n",
       "<table border=\"1\" class=\"dataframe\">\n",
       "  <thead>\n",
       "    <tr style=\"text-align: right;\">\n",
       "      <th></th>\n",
       "      <th>A</th>\n",
       "      <th>B</th>\n",
       "    </tr>\n",
       "  </thead>\n",
       "  <tbody>\n",
       "    <tr>\n",
       "      <th>0</th>\n",
       "      <td>179</td>\n",
       "      <td>1803</td>\n",
       "    </tr>\n",
       "    <tr>\n",
       "      <th>1</th>\n",
       "      <td>699</td>\n",
       "      <td>3189</td>\n",
       "    </tr>\n",
       "    <tr>\n",
       "      <th>2</th>\n",
       "      <td>17</td>\n",
       "      <td>303</td>\n",
       "    </tr>\n",
       "  </tbody>\n",
       "</table>\n",
       "</div>"
      ],
      "text/plain": [
       "     A     B\n",
       "0  179  1803\n",
       "1  699  3189\n",
       "2   17   303"
      ]
     },
     "execution_count": 87,
     "metadata": {},
     "output_type": "execute_result"
    }
   ],
   "source": [
    "import pandas as pd\n",
    "\n",
    "dataframe = pd.DataFrame({'A': [12, 25, 3],\n",
    "                          'B': [41, 55, 16]})\n",
    "\n",
    "# применяем функцию к каждому элементу DataFrame\n",
    "processed_dataframe = dataframe.apply(lambda x: x ** 2 + 3 * x - 1)\n",
    "\n",
    "processed_dataframe.head()"
   ]
  },
  {
   "cell_type": "markdown",
   "id": "6da5e5ad-e215-47fc-bcb9-d042d6b52b78",
   "metadata": {},
   "source": [
    "## Статистические показатели"
   ]
  },
  {
   "cell_type": "markdown",
   "id": "30693d87-396c-4572-92be-7275c544e858",
   "metadata": {},
   "source": [
    "**describe()** – выводит основные статистические показатели:"
   ]
  },
  {
   "cell_type": "code",
   "execution_count": 88,
   "id": "04bbc6a4-e445-42ab-8813-799ca0555282",
   "metadata": {
    "tags": []
   },
   "outputs": [
    {
     "data": {
      "text/html": [
       "<div>\n",
       "<style scoped>\n",
       "    .dataframe tbody tr th:only-of-type {\n",
       "        vertical-align: middle;\n",
       "    }\n",
       "\n",
       "    .dataframe tbody tr th {\n",
       "        vertical-align: top;\n",
       "    }\n",
       "\n",
       "    .dataframe thead th {\n",
       "        text-align: right;\n",
       "    }\n",
       "</style>\n",
       "<table border=\"1\" class=\"dataframe\">\n",
       "  <thead>\n",
       "    <tr style=\"text-align: right;\">\n",
       "      <th></th>\n",
       "      <th>Лейкоциты</th>\n",
       "      <th>Эритроциты</th>\n",
       "    </tr>\n",
       "  </thead>\n",
       "  <tbody>\n",
       "    <tr>\n",
       "      <th>count</th>\n",
       "      <td>3.000000</td>\n",
       "      <td>3.000000</td>\n",
       "    </tr>\n",
       "    <tr>\n",
       "      <th>mean</th>\n",
       "      <td>229.000000</td>\n",
       "      <td>575.000000</td>\n",
       "    </tr>\n",
       "    <tr>\n",
       "      <th>std</th>\n",
       "      <td>93.536089</td>\n",
       "      <td>108.678425</td>\n",
       "    </tr>\n",
       "    <tr>\n",
       "      <th>min</th>\n",
       "      <td>134.000000</td>\n",
       "      <td>474.000000</td>\n",
       "    </tr>\n",
       "    <tr>\n",
       "      <th>25%</th>\n",
       "      <td>183.000000</td>\n",
       "      <td>517.500000</td>\n",
       "    </tr>\n",
       "    <tr>\n",
       "      <th>50%</th>\n",
       "      <td>232.000000</td>\n",
       "      <td>561.000000</td>\n",
       "    </tr>\n",
       "    <tr>\n",
       "      <th>75%</th>\n",
       "      <td>276.500000</td>\n",
       "      <td>625.500000</td>\n",
       "    </tr>\n",
       "    <tr>\n",
       "      <th>max</th>\n",
       "      <td>321.000000</td>\n",
       "      <td>690.000000</td>\n",
       "    </tr>\n",
       "  </tbody>\n",
       "</table>\n",
       "</div>"
      ],
      "text/plain": [
       "        Лейкоциты  Эритроциты\n",
       "count    3.000000    3.000000\n",
       "mean   229.000000  575.000000\n",
       "std     93.536089  108.678425\n",
       "min    134.000000  474.000000\n",
       "25%    183.000000  517.500000\n",
       "50%    232.000000  561.000000\n",
       "75%    276.500000  625.500000\n",
       "max    321.000000  690.000000"
      ]
     },
     "execution_count": 88,
     "metadata": {},
     "output_type": "execute_result"
    }
   ],
   "source": [
    "import pandas as pd\n",
    "\n",
    "dataframe = pd.DataFrame({'Лейкоциты': [134, 232, 321], 'Эритроциты': [474, 561, 690]})\n",
    "\n",
    "# вывод основных статистических показателей\n",
    "dataframe.describe()"
   ]
  },
  {
   "cell_type": "markdown",
   "id": "4958316f-65d5-4ded-9b06-4a7201b9fd46",
   "metadata": {},
   "source": [
    "**sum()** – суммирует значения по столбцам:"
   ]
  },
  {
   "cell_type": "code",
   "execution_count": 90,
   "id": "19e64be5-d5b9-44da-8702-c2c88865ce8c",
   "metadata": {
    "tags": []
   },
   "outputs": [
    {
     "data": {
      "text/plain": [
       "Ноутбуки     990\n",
       "Планшеты    1343\n",
       "dtype: int64"
      ]
     },
     "execution_count": 90,
     "metadata": {},
     "output_type": "execute_result"
    }
   ],
   "source": [
    "import pandas as pd\n",
    "\n",
    "dataframe = pd.DataFrame({'Ноутбуки': [341, 267, 382], 'Планшеты': [374, 503, 466]})\n",
    "\n",
    "# выводим суммы значений по столбцам\n",
    "dataframe.sum()"
   ]
  },
  {
   "cell_type": "markdown",
   "id": "b1debac7-45b6-4b87-8afe-2fb489fd96d3",
   "metadata": {},
   "source": [
    "**mean()** – вычисляет средние значения по столбцам:"
   ]
  },
  {
   "cell_type": "code",
   "execution_count": 91,
   "id": "ab08aa0c-faea-498e-91fe-9f98d9ab70db",
   "metadata": {
    "tags": []
   },
   "outputs": [
    {
     "name": "stdout",
     "output_type": "stream",
     "text": [
      "Выручка    211838.333333\n",
      "Затраты     50450.000000\n",
      "dtype: float64\n"
     ]
    }
   ],
   "source": [
    "import pandas as pd\n",
    "\n",
    "dataframe = pd.DataFrame({'Выручка': [134500, 200670, 300345], 'Затраты': [40450, 50450, 60450]})\n",
    "\n",
    "# выводим средние значения для столбцов\n",
    "print(dataframe.mean())  "
   ]
  },
  {
   "cell_type": "markdown",
   "id": "794978db-ea8f-422f-9341-e45af021bb87",
   "metadata": {},
   "source": [
    "**min() и мах()** – выводят минимальные и максимальные значения для каждого столбца:"
   ]
  },
  {
   "cell_type": "code",
   "execution_count": 75,
   "id": "00ede0f9-058f-4616-9744-f018b6882ec2",
   "metadata": {
    "tags": []
   },
   "outputs": [
    {
     "name": "stdout",
     "output_type": "stream",
     "text": [
      "Apple     1034\n",
      "Nvidia    4034\n",
      "dtype: int64\n",
      "Apple     3985\n",
      "Nvidia    6723\n",
      "dtype: int64\n"
     ]
    }
   ],
   "source": [
    "import pandas as pd\n",
    "\n",
    "dataframe = pd.DataFrame({'Apple': [1034, 1245, 3985], 'Nvidia': [4034, 5124, 6723]})\n",
    "\n",
    "print(dataframe.min())  # минимальные значение в столбцах\n",
    "print(dataframe.max())  # максимальные значения в столбцах"
   ]
  },
  {
   "cell_type": "markdown",
   "id": "e2a11089-e3e8-4509-b212-f328f02aa984",
   "metadata": {},
   "source": [
    "**groupby()** – группирует данные по указанному столбцу. Одновременно можно применить к значениям агрегирующую функцию:"
   ]
  },
  {
   "cell_type": "code",
   "execution_count": 92,
   "id": "a78bea0e-f8fa-4e44-a895-e61484e17ac9",
   "metadata": {
    "tags": []
   },
   "outputs": [
    {
     "data": {
      "text/html": [
       "<div>\n",
       "<style scoped>\n",
       "    .dataframe tbody tr th:only-of-type {\n",
       "        vertical-align: middle;\n",
       "    }\n",
       "\n",
       "    .dataframe tbody tr th {\n",
       "        vertical-align: top;\n",
       "    }\n",
       "\n",
       "    .dataframe thead th {\n",
       "        text-align: right;\n",
       "    }\n",
       "</style>\n",
       "<table border=\"1\" class=\"dataframe\">\n",
       "  <thead>\n",
       "    <tr style=\"text-align: right;\">\n",
       "      <th></th>\n",
       "      <th>Зарплата</th>\n",
       "    </tr>\n",
       "    <tr>\n",
       "      <th>Имя</th>\n",
       "      <th></th>\n",
       "    </tr>\n",
       "  </thead>\n",
       "  <tbody>\n",
       "    <tr>\n",
       "      <th>Анна</th>\n",
       "      <td>150000.0</td>\n",
       "    </tr>\n",
       "    <tr>\n",
       "      <th>Егор</th>\n",
       "      <td>155000.0</td>\n",
       "    </tr>\n",
       "    <tr>\n",
       "      <th>Кирилл</th>\n",
       "      <td>163000.0</td>\n",
       "    </tr>\n",
       "    <tr>\n",
       "      <th>Марина</th>\n",
       "      <td>145000.0</td>\n",
       "    </tr>\n",
       "    <tr>\n",
       "      <th>Павел</th>\n",
       "      <td>172500.0</td>\n",
       "    </tr>\n",
       "  </tbody>\n",
       "</table>\n",
       "</div>"
      ],
      "text/plain": [
       "        Зарплата\n",
       "Имя             \n",
       "Анна    150000.0\n",
       "Егор    155000.0\n",
       "Кирилл  163000.0\n",
       "Марина  145000.0\n",
       "Павел   172500.0"
      ]
     },
     "execution_count": 92,
     "metadata": {},
     "output_type": "execute_result"
    }
   ],
   "source": [
    "import pandas as pd\n",
    "\n",
    "dataframe = pd.DataFrame({'Имя': ['Анна', 'Кирилл', 'Марина', 'Павел', 'Егор'],\n",
    "                          'Возраст': [25, 30, 28, 35, 37],\n",
    "                          'Зарплата': [150000, 163000, 145000, 172500, 155000]})\n",
    "\n",
    "# группируем данные по столбцу 'Имя' и вычисляем среднюю зарплату\n",
    "grouped_data = dataframe.groupby('Имя').agg({'Зарплата': 'mean'})\n",
    "\n",
    "grouped_data.head()"
   ]
  },
  {
   "cell_type": "markdown",
   "id": "cf0242a2-3a90-415c-9231-2b2fb1f5d535",
   "metadata": {},
   "source": [
    "**agg()** – применяет агрегирующую функцию к группам данных:"
   ]
  },
  {
   "cell_type": "code",
   "execution_count": 94,
   "id": "12a8a264-e377-4c9c-9835-b7e707e1f88e",
   "metadata": {
    "tags": []
   },
   "outputs": [
    {
     "data": {
      "text/html": [
       "<div>\n",
       "<style scoped>\n",
       "    .dataframe tbody tr th:only-of-type {\n",
       "        vertical-align: middle;\n",
       "    }\n",
       "\n",
       "    .dataframe tbody tr th {\n",
       "        vertical-align: top;\n",
       "    }\n",
       "\n",
       "    .dataframe thead th {\n",
       "        text-align: right;\n",
       "    }\n",
       "</style>\n",
       "<table border=\"1\" class=\"dataframe\">\n",
       "  <thead>\n",
       "    <tr style=\"text-align: right;\">\n",
       "      <th></th>\n",
       "      <th>Годовая зарплата</th>\n",
       "    </tr>\n",
       "  </thead>\n",
       "  <tbody>\n",
       "    <tr>\n",
       "      <th>mean</th>\n",
       "      <td>54600.0</td>\n",
       "    </tr>\n",
       "    <tr>\n",
       "      <th>sum</th>\n",
       "      <td>273000.0</td>\n",
       "    </tr>\n",
       "  </tbody>\n",
       "</table>\n",
       "</div>"
      ],
      "text/plain": [
       "      Годовая зарплата\n",
       "mean           54600.0\n",
       "sum           273000.0"
      ]
     },
     "execution_count": 94,
     "metadata": {},
     "output_type": "execute_result"
    }
   ],
   "source": [
    "import pandas as pd\n",
    "\n",
    "dataframe = pd.DataFrame({'Столица': ['Лондон', 'Париж', 'Токио', 'Берлин', 'Рим'],\n",
    "                          'Население': [8908081, 2140526, 13929286, 3748148, 2870493],\n",
    "                          'Площадь': [1572, 105.4, 2190.93, 891.68, 1285.31],\n",
    "                          'Годовая зарплата': [58000, 42000, 72000, 52000, 49000]})\n",
    "\n",
    "# вычисляем среднее значение и сумму дохода\n",
    "aggregated_data = dataframe.agg({'Годовая зарплата': ['mean', 'sum']})\n",
    "\n",
    "aggregated_data.head()"
   ]
  },
  {
   "cell_type": "markdown",
   "id": "26a89958-effe-4fd6-8cd5-e0cc07620cff",
   "metadata": {},
   "source": [
    "**pivot_table()** – создает сводную таблицу на основе DataFrame:"
   ]
  },
  {
   "cell_type": "code",
   "execution_count": 101,
   "id": "2e464936-541f-4081-9fc5-be93cfb6fdcf",
   "metadata": {
    "tags": []
   },
   "outputs": [
    {
     "data": {
      "text/html": [
       "<div>\n",
       "<style scoped>\n",
       "    .dataframe tbody tr th:only-of-type {\n",
       "        vertical-align: middle;\n",
       "    }\n",
       "\n",
       "    .dataframe tbody tr th {\n",
       "        vertical-align: top;\n",
       "    }\n",
       "\n",
       "    .dataframe thead th {\n",
       "        text-align: right;\n",
       "    }\n",
       "</style>\n",
       "<table border=\"1\" class=\"dataframe\">\n",
       "  <thead>\n",
       "    <tr style=\"text-align: right;\">\n",
       "      <th>Продукт</th>\n",
       "      <th>Dairy Milk</th>\n",
       "      <th>Ferrero Rocher</th>\n",
       "      <th>Hershey Bar</th>\n",
       "      <th>KitKat</th>\n",
       "      <th>Snickers</th>\n",
       "    </tr>\n",
       "    <tr>\n",
       "      <th>Производитель</th>\n",
       "      <th></th>\n",
       "      <th></th>\n",
       "      <th></th>\n",
       "      <th></th>\n",
       "      <th></th>\n",
       "    </tr>\n",
       "  </thead>\n",
       "  <tbody>\n",
       "    <tr>\n",
       "      <th>Cadbury</th>\n",
       "      <td>13.49</td>\n",
       "      <td>NaN</td>\n",
       "      <td>NaN</td>\n",
       "      <td>NaN</td>\n",
       "      <td>NaN</td>\n",
       "    </tr>\n",
       "    <tr>\n",
       "      <th>Ferrero</th>\n",
       "      <td>NaN</td>\n",
       "      <td>14.99</td>\n",
       "      <td>NaN</td>\n",
       "      <td>NaN</td>\n",
       "      <td>NaN</td>\n",
       "    </tr>\n",
       "    <tr>\n",
       "      <th>Hershey</th>\n",
       "      <td>NaN</td>\n",
       "      <td>NaN</td>\n",
       "      <td>1.99</td>\n",
       "      <td>NaN</td>\n",
       "      <td>NaN</td>\n",
       "    </tr>\n",
       "    <tr>\n",
       "      <th>Mars</th>\n",
       "      <td>NaN</td>\n",
       "      <td>NaN</td>\n",
       "      <td>NaN</td>\n",
       "      <td>NaN</td>\n",
       "      <td>1.49</td>\n",
       "    </tr>\n",
       "    <tr>\n",
       "      <th>Nestle</th>\n",
       "      <td>NaN</td>\n",
       "      <td>NaN</td>\n",
       "      <td>NaN</td>\n",
       "      <td>2.99</td>\n",
       "      <td>NaN</td>\n",
       "    </tr>\n",
       "  </tbody>\n",
       "</table>\n",
       "</div>"
      ],
      "text/plain": [
       "Продукт        Dairy Milk  Ferrero Rocher  Hershey Bar  KitKat  Snickers\n",
       "Производитель                                                           \n",
       "Cadbury             13.49             NaN          NaN     NaN       NaN\n",
       "Ferrero               NaN           14.99          NaN     NaN       NaN\n",
       "Hershey               NaN             NaN         1.99     NaN       NaN\n",
       "Mars                  NaN             NaN          NaN     NaN      1.49\n",
       "Nestle                NaN             NaN          NaN    2.99       NaN"
      ]
     },
     "execution_count": 101,
     "metadata": {},
     "output_type": "execute_result"
    }
   ],
   "source": [
    "import pandas as pd\n",
    "\n",
    "dataframe = pd.DataFrame({'Производитель': ['Nestle', 'Hershey', 'Mars', 'Ferrero', 'Cadbury'],\n",
    "                          'Продукт': ['KitKat', 'Hershey Bar', 'Snickers', 'Ferrero Rocher', 'Dairy Milk'],\n",
    "                          'Цена': [2.99, 1.99, 1.49, 14.99, 13.49]})\n",
    "\n",
    "dataframe.head()\n",
    "\n",
    "pivot_table_data = dataframe.pivot_table(index='Производитель', columns='Продукт', values='Цена', aggfunc='mean')\n",
    "\n",
    "pivot_table_data.head()"
   ]
  },
  {
   "cell_type": "markdown",
   "id": "32d70728-92aa-41ec-899c-524e02c13daf",
   "metadata": {},
   "source": [
    "# Задание\n",
    "Файл students.csv содержит информацию об оценках студентов по математике, физике, химии, информатике и истории. Нужно написать программу, которая вычислит средний балл успеваемости для каждого студента и сформирует список учащихся по убыванию среднего балла."
   ]
  },
  {
   "cell_type": "code",
   "execution_count": 82,
   "id": "a74c3669-81b6-4094-9f21-ca955230bdfe",
   "metadata": {
    "tags": []
   },
   "outputs": [
    {
     "data": {
      "text/html": [
       "<div>\n",
       "<style scoped>\n",
       "    .dataframe tbody tr th:only-of-type {\n",
       "        vertical-align: middle;\n",
       "    }\n",
       "\n",
       "    .dataframe tbody tr th {\n",
       "        vertical-align: top;\n",
       "    }\n",
       "\n",
       "    .dataframe thead th {\n",
       "        text-align: right;\n",
       "    }\n",
       "</style>\n",
       "<table border=\"1\" class=\"dataframe\">\n",
       "  <thead>\n",
       "    <tr style=\"text-align: right;\">\n",
       "      <th></th>\n",
       "      <th>Имя</th>\n",
       "      <th>Математика</th>\n",
       "      <th>Физика</th>\n",
       "      <th>Химия</th>\n",
       "      <th>Информатика</th>\n",
       "      <th>История</th>\n",
       "      <th>Средний балл</th>\n",
       "    </tr>\n",
       "  </thead>\n",
       "  <tbody>\n",
       "    <tr>\n",
       "      <th>9</th>\n",
       "      <td>Александр Васильев</td>\n",
       "      <td>5</td>\n",
       "      <td>5</td>\n",
       "      <td>5</td>\n",
       "      <td>4</td>\n",
       "      <td>5</td>\n",
       "      <td>4.8</td>\n",
       "    </tr>\n",
       "    <tr>\n",
       "      <th>18</th>\n",
       "      <td>Елена Комарова</td>\n",
       "      <td>5</td>\n",
       "      <td>4</td>\n",
       "      <td>5</td>\n",
       "      <td>5</td>\n",
       "      <td>5</td>\n",
       "      <td>4.8</td>\n",
       "    </tr>\n",
       "    <tr>\n",
       "      <th>24</th>\n",
       "      <td>София Зайцева</td>\n",
       "      <td>4</td>\n",
       "      <td>5</td>\n",
       "      <td>4</td>\n",
       "      <td>5</td>\n",
       "      <td>5</td>\n",
       "      <td>4.6</td>\n",
       "    </tr>\n",
       "    <tr>\n",
       "      <th>15</th>\n",
       "      <td>Андрей Козлов</td>\n",
       "      <td>5</td>\n",
       "      <td>4</td>\n",
       "      <td>5</td>\n",
       "      <td>5</td>\n",
       "      <td>4</td>\n",
       "      <td>4.6</td>\n",
       "    </tr>\n",
       "    <tr>\n",
       "      <th>6</th>\n",
       "      <td>Ольга Смирнова</td>\n",
       "      <td>5</td>\n",
       "      <td>5</td>\n",
       "      <td>5</td>\n",
       "      <td>4</td>\n",
       "      <td>4</td>\n",
       "      <td>4.6</td>\n",
       "    </tr>\n",
       "  </tbody>\n",
       "</table>\n",
       "</div>"
      ],
      "text/plain": [
       "                   Имя  Математика  Физика  Химия  Информатика  История  Средний балл\n",
       "9   Александр Васильев           5       5      5            4        5           4.8\n",
       "18      Елена Комарова           5       4      5            5        5           4.8\n",
       "24       София Зайцева           4       5      4            5        5           4.6\n",
       "15       Андрей Козлов           5       4      5            5        4           4.6\n",
       "6       Ольга Смирнова           5       5      5            4        4           4.6"
      ]
     },
     "execution_count": 82,
     "metadata": {},
     "output_type": "execute_result"
    }
   ],
   "source": [
    "import pandas as pd\n",
    "\n",
    "# загружаем данные из файла CSV\n",
    "data = pd.read_csv('students.csv')\n",
    "\n",
    "# вычисляем средний балл каждого студента\n",
    "data['Средний балл'] = data[['Математика', 'Физика', 'Химия', 'Информатика', 'История']].mean(axis=1).round(2)\n",
    "\n",
    "# устанавливаем параметры для отображения всех столбцов без сокращения\n",
    "pd.set_option('display.max_columns', None)\n",
    "pd.set_option('display.expand_frame_repr', False)\n",
    "\n",
    "# сортируем список по среднему баллу в порядке убывания\n",
    "sorted_data = data.sort_values(by='Средний балл', ascending=False)\n",
    "\n",
    "sorted_data.head()"
   ]
  },
  {
   "cell_type": "markdown",
   "id": "eaa054da-0927-4da5-8d3b-4156497ac93d",
   "metadata": {},
   "source": [
    "# Задание\n",
    "Имеются данные о ежемесячных доходах от инвестиций за 5 лет:\n",
    "Напишите программу для определения:\n",
    "* Годовой доходности.\n",
    "* Средней ежемесячной доходности по каждому году.\n",
    "* Года с наивысшей доходностью.\n",
    "* Года с наименьшей доходностью."
   ]
  },
  {
   "cell_type": "code",
   "execution_count": 84,
   "id": "2005e6d8-6b04-47af-90de-4512207d7531",
   "metadata": {
    "tags": []
   },
   "outputs": [
    {
     "name": "stdout",
     "output_type": "stream",
     "text": [
      "Годовая доходность:\n",
      "2019    2730000\n",
      "2020    3480000\n",
      "2021    4260000\n",
      "2022    3720000\n",
      "2023    3010000\n",
      "\n",
      "Средняя ежемесячная доходность по каждому году:\n",
      "2019    227500.00\n",
      "2020    290000.00\n",
      "2021    355000.00\n",
      "2022    310000.00\n",
      "2023    250833.33\n",
      "\n",
      "Год с наибольшей доходностью: 2021\n",
      "Год с наименьшей доходностью: 2019\n"
     ]
    }
   ],
   "source": [
    "import pandas as pd\n",
    "\n",
    "# ежемесячные доходы от инвестиций за 5 лет\n",
    "investments = pd.Series([100000, 120000, 150000, 80000, 200000, 250000, 180000, 300000, 280000, 320000, 350000, 400000,\n",
    "                         180000, 200000, 220000, 240000, 260000, 280000, 300000, 320000, 340000, 360000, 380000, 400000,\n",
    "                         150000, 300000, 250000, 280000, 320000, 350000, 380000, 400000, 420000, 440000, 470000, 500000,\n",
    "                         200000, 220000, 240000, 260000, 280000, 300000, 320000, 340000, 360000, 380000, 400000, 420000,\n",
    "                         150000, 160000, 180000, 200000, 220000, 240000, 260000, 280000, 300000, 320000, 340000, 360000],\n",
    "                        index=pd.date_range(start='2019-01-01', periods=60, freq='M'))\n",
    "\n",
    "# вычисляем годовую доходность\n",
    "annual_returns = investments.groupby(investments.index.year).sum()\n",
    "\n",
    "# вычисляем среднюю ежемесячную доходность по каждому году\n",
    "monthly_returns = investments.groupby(investments.index.year).mean()\n",
    "\n",
    "print(\"Годовая доходность:\")\n",
    "print(annual_returns.to_string(name=False))\n",
    "print(\"\\nСредняя ежемесячная доходность по каждому году:\")\n",
    "print(monthly_returns.round(2).to_string(name=False))\n",
    "print(f\"\\nГод с наибольшей доходностью: {annual_returns.idxmax()}\")\n",
    "print(f\"Год с наименьшей доходностью: {annual_returns.idxmin()}\")"
   ]
  },
  {
   "cell_type": "markdown",
   "id": "757da107-07f8-4504-b399-0cb86d67f4ec",
   "metadata": {},
   "source": [
    "# Задание\n",
    "Имеется файл sales_data.csv с данными о продажах фруктов в нескольких магазинах компании. Напишите программу для определения:\n",
    "\n",
    "* Самого прибыльного магазинах.\n",
    "* Самого популярного вида фруктов.\n",
    "* Самого прибыльного месяца."
   ]
  },
  {
   "cell_type": "code",
   "execution_count": 85,
   "id": "f6630d29-14c2-4e75-b482-d28de4d924df",
   "metadata": {
    "tags": []
   },
   "outputs": [
    {
     "name": "stdout",
     "output_type": "stream",
     "text": [
      "Самый прибыльный магазин: Континент\n",
      "Самые популярные фрукты: бананы\n",
      "Самый прибыльный месяц: январь\n"
     ]
    }
   ],
   "source": [
    "import pandas as pd\n",
    "\n",
    "# загружаем данные из файла CSV\n",
    "data = pd.read_csv('sales_data.csv')\n",
    "month_names = {\n",
    "    1: 'январь',\n",
    "    2: 'февраль',\n",
    "    3: 'март',\n",
    "    4: 'апрель',\n",
    "    5: 'май',\n",
    "    6: 'июнь',\n",
    "    7: 'июль',\n",
    "    8: 'август',\n",
    "    9: 'сентябрь',\n",
    "    10: 'октябрь',\n",
    "    11: 'ноябрь',\n",
    "    12: 'декабрь'\n",
    "}\n",
    "\n",
    "# преобразуем столбец 'Дата' в datetime\n",
    "data['Дата'] = pd.to_datetime(data['Дата'])\n",
    "\n",
    "# вычисляем прибыль\n",
    "data['Прибыль'] = data['Количество'] * data['Цена']\n",
    "\n",
    "# находим самый прибыльный магазин\n",
    "profit_by_store = data.groupby('Магазин')['Прибыль'].sum()\n",
    "most_profitable_store = profit_by_store.idxmax()\n",
    "\n",
    "# определяем самые популярные фрукты\n",
    "popular_fruit = data.groupby('Фрукт')['Количество'].sum().idxmax()\n",
    "\n",
    "# находим самый прибыльный месяц\n",
    "data['Месяц'] = data['Дата'].dt.month\n",
    "profit_by_month = data.groupby('Месяц')['Прибыль'].sum()\n",
    "most_profitable_month = profit_by_month.idxmax()\n",
    "\n",
    "print(f\"Самый прибыльный магазин: {most_profitable_store}\")\n",
    "print(f\"Самые популярные фрукты: {popular_fruit.lower()}\")\n",
    "print(f\"Самый прибыльный месяц: {month_names.get(most_profitable_month)}\")"
   ]
  },
  {
   "cell_type": "code",
   "execution_count": null,
   "id": "c99bbbaf-b039-473e-9e03-27ee598c174e",
   "metadata": {},
   "outputs": [],
   "source": []
  }
 ],
 "metadata": {
  "kernelspec": {
   "display_name": "Python 3 (ipykernel)",
   "language": "python",
   "name": "python3"
  },
  "language_info": {
   "codemirror_mode": {
    "name": "ipython",
    "version": 3
   },
   "file_extension": ".py",
   "mimetype": "text/x-python",
   "name": "python",
   "nbconvert_exporter": "python",
   "pygments_lexer": "ipython3",
   "version": "3.11.5"
  }
 },
 "nbformat": 4,
 "nbformat_minor": 5
}
